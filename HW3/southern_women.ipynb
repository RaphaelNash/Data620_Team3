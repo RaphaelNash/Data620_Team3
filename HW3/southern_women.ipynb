{
 "cells": [
  {
   "cell_type": "markdown",
   "metadata": {},
   "source": [
    "Description\n",
    "\n",
    "This is a data set of 18 women observed over a nine-month period. During that period, various subsets of these women met in a series of 14 informal social events. The data recored which women met for which events.\n",
    "\n",
    "This data is originally from Davis, Gardner and Gardner (1941) via UCINET. This documentation is taken from Freeman (2003) in his usual lucid description. See the reference to the paper below:\n",
    "\n",
    "In the 1930s, five ethnographers, Allison Davis, Elizabeth Stubbs Davis, Burleigh B. Gardner, Mary R. Gardner and J. G. St. Clair Drake, collected data on stratification in Natchez, Mississippi (Warner, 1988, p. 93). They produced the book cited below (Davis, et al., 1941) that reported a comparative study of social class in black and in white society. One element of this work involved examining the correspondence between people's social class levels and their patterns of informal interaction. Davis et. al was concerned with the issue of how much the informal contacts made by individuals were established solely (or primarily) with others at approximately their own class levels. To address this question the authors collected data on social events and examined people's patterns of informal contacts.\n",
    "\n",
    "Our data is essentially a 2-mode or bimodal network, meaning it contains two types of nodes. The options that are available to us for analysis are Bipartite network, as well as two separate unipartite networks - for each node type. The primary focus of our analysis below will us a bipartite analysis, that is applied to an adjacency matrix between the two node types - or categorical variables. Essentially the edges in this type of analysis are only between the two node types, and NOT between nodes within the same type. Finally we will apply measures of centrality, redundancy and clustering to make inferences about the relationship between the women and the social events they attend, as well as their relationship to each other.  "
   ]
  },
  {
   "cell_type": "code",
   "execution_count": 16,
   "metadata": {
    "collapsed": true
   },
   "outputs": [],
   "source": [
    "import networkx as nx\n",
    "import networkx.algorithms.bipartite as bipartite\n",
    "import matplotlib.pyplot as plt\n",
    "import matplotlib.colors as colors\n",
    "from scipy import stats\n",
    "import numpy as np\n",
    "import math\n",
    "\n",
    "%matplotlib inline"
   ]
  },
  {
   "cell_type": "code",
   "execution_count": 17,
   "metadata": {},
   "outputs": [
    {
     "data": {
      "text/plain": [
       "[('Theresa Anderson', 'Pearl Oglethorpe'),\n",
       " ('Theresa Anderson', 'Flora Price'),\n",
       " ('Theresa Anderson', 'Katherina Rogers'),\n",
       " ('Theresa Anderson', 'Nora Fayette'),\n",
       " ('Theresa Anderson', 'Sylvia Avondale'),\n",
       " ('Theresa Anderson', 'Verne Sanderson'),\n",
       " ('Theresa Anderson', 'Olivia Carleton'),\n",
       " ('Theresa Anderson', 'Brenda Rogers'),\n",
       " ('Theresa Anderson', 'Eleanor Nye'),\n",
       " ('Theresa Anderson', 'Frances Anderson'),\n",
       " ('Theresa Anderson', 'Dorothy Murchison'),\n",
       " ('Theresa Anderson', 'Ruth DeSand'),\n",
       " ('Theresa Anderson', 'Laura Mandeville'),\n",
       " ('Theresa Anderson', 'Evelyn Jefferson'),\n",
       " ('Theresa Anderson', 'Charlotte McDowd'),\n",
       " ('Theresa Anderson', 'Myra Liddel'),\n",
       " ('Theresa Anderson', 'Helen Lloyd'),\n",
       " ('Pearl Oglethorpe', 'Helen Lloyd'),\n",
       " ('Pearl Oglethorpe', 'Flora Price'),\n",
       " ('Pearl Oglethorpe', 'Katherina Rogers'),\n",
       " ('Pearl Oglethorpe', 'Nora Fayette'),\n",
       " ('Pearl Oglethorpe', 'Sylvia Avondale'),\n",
       " ('Pearl Oglethorpe', 'Verne Sanderson'),\n",
       " ('Pearl Oglethorpe', 'Olivia Carleton'),\n",
       " ('Pearl Oglethorpe', 'Brenda Rogers'),\n",
       " ('Pearl Oglethorpe', 'Eleanor Nye'),\n",
       " ('Pearl Oglethorpe', 'Frances Anderson'),\n",
       " ('Pearl Oglethorpe', 'Dorothy Murchison'),\n",
       " ('Pearl Oglethorpe', 'Ruth DeSand'),\n",
       " ('Pearl Oglethorpe', 'Laura Mandeville'),\n",
       " ('Pearl Oglethorpe', 'Evelyn Jefferson'),\n",
       " ('Pearl Oglethorpe', 'Myra Liddel'),\n",
       " ('Flora Price', 'Katherina Rogers'),\n",
       " ('Flora Price', 'Nora Fayette'),\n",
       " ('Flora Price', 'Sylvia Avondale'),\n",
       " ('Flora Price', 'Verne Sanderson'),\n",
       " ('Flora Price', 'Olivia Carleton'),\n",
       " ('Flora Price', 'Dorothy Murchison'),\n",
       " ('Flora Price', 'Ruth DeSand'),\n",
       " ('Flora Price', 'Evelyn Jefferson'),\n",
       " ('Flora Price', 'Myra Liddel'),\n",
       " ('Flora Price', 'Helen Lloyd'),\n",
       " ('Katherina Rogers', 'Nora Fayette'),\n",
       " ('Katherina Rogers', 'Sylvia Avondale'),\n",
       " ('Katherina Rogers', 'Verne Sanderson'),\n",
       " ('Katherina Rogers', 'Olivia Carleton'),\n",
       " ('Katherina Rogers', 'Brenda Rogers'),\n",
       " ('Katherina Rogers', 'Eleanor Nye'),\n",
       " ('Katherina Rogers', 'Frances Anderson'),\n",
       " ('Katherina Rogers', 'Dorothy Murchison'),\n",
       " ('Katherina Rogers', 'Ruth DeSand'),\n",
       " ('Katherina Rogers', 'Laura Mandeville'),\n",
       " ('Katherina Rogers', 'Evelyn Jefferson'),\n",
       " ('Katherina Rogers', 'Myra Liddel'),\n",
       " ('Katherina Rogers', 'Helen Lloyd'),\n",
       " ('Nora Fayette', 'Sylvia Avondale'),\n",
       " ('Nora Fayette', 'Verne Sanderson'),\n",
       " ('Nora Fayette', 'Olivia Carleton'),\n",
       " ('Nora Fayette', 'Brenda Rogers'),\n",
       " ('Nora Fayette', 'Eleanor Nye'),\n",
       " ('Nora Fayette', 'Frances Anderson'),\n",
       " ('Nora Fayette', 'Dorothy Murchison'),\n",
       " ('Nora Fayette', 'Ruth DeSand'),\n",
       " ('Nora Fayette', 'Laura Mandeville'),\n",
       " ('Nora Fayette', 'Evelyn Jefferson'),\n",
       " ('Nora Fayette', 'Charlotte McDowd'),\n",
       " ('Nora Fayette', 'Myra Liddel'),\n",
       " ('Nora Fayette', 'Helen Lloyd'),\n",
       " ('Sylvia Avondale', 'Verne Sanderson'),\n",
       " ('Sylvia Avondale', 'Olivia Carleton'),\n",
       " ('Sylvia Avondale', 'Brenda Rogers'),\n",
       " ('Sylvia Avondale', 'Eleanor Nye'),\n",
       " ('Sylvia Avondale', 'Frances Anderson'),\n",
       " ('Sylvia Avondale', 'Dorothy Murchison'),\n",
       " ('Sylvia Avondale', 'Ruth DeSand'),\n",
       " ('Sylvia Avondale', 'Laura Mandeville'),\n",
       " ('Sylvia Avondale', 'Evelyn Jefferson'),\n",
       " ('Sylvia Avondale', 'Charlotte McDowd'),\n",
       " ('Sylvia Avondale', 'Myra Liddel'),\n",
       " ('Sylvia Avondale', 'Helen Lloyd'),\n",
       " ('Verne Sanderson', 'Myra Liddel'),\n",
       " ('Verne Sanderson', 'Olivia Carleton'),\n",
       " ('Verne Sanderson', 'Brenda Rogers'),\n",
       " ('Verne Sanderson', 'Eleanor Nye'),\n",
       " ('Verne Sanderson', 'Frances Anderson'),\n",
       " ('Verne Sanderson', 'Dorothy Murchison'),\n",
       " ('Verne Sanderson', 'Ruth DeSand'),\n",
       " ('Verne Sanderson', 'Laura Mandeville'),\n",
       " ('Verne Sanderson', 'Evelyn Jefferson'),\n",
       " ('Verne Sanderson', 'Charlotte McDowd'),\n",
       " ('Verne Sanderson', 'Helen Lloyd'),\n",
       " ('Olivia Carleton', 'Dorothy Murchison'),\n",
       " ('Olivia Carleton', 'Ruth DeSand'),\n",
       " ('Olivia Carleton', 'Evelyn Jefferson'),\n",
       " ('Olivia Carleton', 'Myra Liddel'),\n",
       " ('Olivia Carleton', 'Helen Lloyd'),\n",
       " ('Brenda Rogers', 'Eleanor Nye'),\n",
       " ('Brenda Rogers', 'Frances Anderson'),\n",
       " ('Brenda Rogers', 'Dorothy Murchison'),\n",
       " ('Brenda Rogers', 'Ruth DeSand'),\n",
       " ('Brenda Rogers', 'Laura Mandeville'),\n",
       " ('Brenda Rogers', 'Evelyn Jefferson'),\n",
       " ('Brenda Rogers', 'Charlotte McDowd'),\n",
       " ('Brenda Rogers', 'Myra Liddel'),\n",
       " ('Brenda Rogers', 'Helen Lloyd'),\n",
       " ('Eleanor Nye', 'Helen Lloyd'),\n",
       " ('Eleanor Nye', 'Frances Anderson'),\n",
       " ('Eleanor Nye', 'Dorothy Murchison'),\n",
       " ('Eleanor Nye', 'Ruth DeSand'),\n",
       " ('Eleanor Nye', 'Laura Mandeville'),\n",
       " ('Eleanor Nye', 'Evelyn Jefferson'),\n",
       " ('Eleanor Nye', 'Charlotte McDowd'),\n",
       " ('Eleanor Nye', 'Myra Liddel'),\n",
       " ('Frances Anderson', 'Dorothy Murchison'),\n",
       " ('Frances Anderson', 'Ruth DeSand'),\n",
       " ('Frances Anderson', 'Laura Mandeville'),\n",
       " ('Frances Anderson', 'Evelyn Jefferson'),\n",
       " ('Frances Anderson', 'Charlotte McDowd'),\n",
       " ('Frances Anderson', 'Myra Liddel'),\n",
       " ('Frances Anderson', 'Helen Lloyd'),\n",
       " ('Dorothy Murchison', 'Ruth DeSand'),\n",
       " ('Dorothy Murchison', 'Laura Mandeville'),\n",
       " ('Dorothy Murchison', 'Evelyn Jefferson'),\n",
       " ('Dorothy Murchison', 'Myra Liddel'),\n",
       " ('Dorothy Murchison', 'Helen Lloyd'),\n",
       " ('Ruth DeSand', 'Laura Mandeville'),\n",
       " ('Ruth DeSand', 'Evelyn Jefferson'),\n",
       " ('Ruth DeSand', 'Charlotte McDowd'),\n",
       " ('Ruth DeSand', 'Myra Liddel'),\n",
       " ('Ruth DeSand', 'Helen Lloyd'),\n",
       " ('Laura Mandeville', 'Evelyn Jefferson'),\n",
       " ('Laura Mandeville', 'Charlotte McDowd'),\n",
       " ('Laura Mandeville', 'Myra Liddel'),\n",
       " ('Laura Mandeville', 'Helen Lloyd'),\n",
       " ('Evelyn Jefferson', 'Charlotte McDowd'),\n",
       " ('Evelyn Jefferson', 'Myra Liddel'),\n",
       " ('Evelyn Jefferson', 'Helen Lloyd'),\n",
       " ('Charlotte McDowd', 'Helen Lloyd'),\n",
       " ('Myra Liddel', 'Helen Lloyd')]"
      ]
     },
     "execution_count": 17,
     "metadata": {},
     "output_type": "execute_result"
    }
   ],
   "source": [
    "G = nx.davis_southern_women_graph()\n",
    "women = G.graph['top']\n",
    "clubs = G.graph['bottom']\n",
    "G.nodes()\n",
    "\n",
    "W = bipartite.projected_graph(G, women)\n",
    "W.nodes()\n",
    "W.edges()"
   ]
  },
  {
   "cell_type": "code",
   "execution_count": 18,
   "metadata": {},
   "outputs": [
    {
     "name": "stdout",
     "output_type": "stream",
     "text": [
      "{'Flora Price': 1.0, 'Nora Fayette': 0.75, 'E10': 1.0, 'Verne Sanderson': 1.0, 'E12': 1.0, 'E14': 1.0, 'Frances Anderson': 1.0, 'Dorothy Murchison': 1.0, 'Evelyn Jefferson': 0.9642857142857143, 'Ruth DeSand': 1.0, 'Helen Lloyd': 0.9, 'Olivia Carleton': 1.0, 'Eleanor Nye': 1.0, 'E11': 0.6666666666666666, 'E9': 0.7121212121212122, 'E8': 0.8021978021978022, 'E5': 1.0, 'E4': 1.0, 'E7': 0.9111111111111111, 'E6': 0.9642857142857143, 'E1': 1.0, 'Myra Liddel': 1.0, 'E3': 1.0, 'E2': 1.0, 'Theresa Anderson': 1.0, 'Pearl Oglethorpe': 1.0, 'Katherina Rogers': 1.0, 'Brenda Rogers': 1.0, 'E13': 1.0, 'Charlotte McDowd': 1.0, 'Sylvia Avondale': 1.0, 'Laura Mandeville': 1.0}\n",
      "0.958458381896\n",
      "{'Flora Price': 0.2575066137566138, 'Nora Fayette': 0.26057667822373703, 'E10': 0.4033424908424909, 'Verne Sanderson': 0.3488328664799254, 'E12': 0.40144230769230776, 'E14': 0.3664772727272727, 'Frances Anderson': 0.31481721981721983, 'Dorothy Murchison': 0.30500992063492066, 'Evelyn Jefferson': 0.3179433311786252, 'Ruth DeSand': 0.36435574229691875, 'Helen Lloyd': 0.2616989219930397, 'Olivia Carleton': 0.25750661375661377, 'Eleanor Nye': 0.3603174603174603, 'E11': 0.1770270171005465, 'E9': 0.24355452240067624, 'E8': 0.2961646196940315, 'E5': 0.4678921568627451, 'E4': 0.3644480519480519, 'E7': 0.2893897203851955, 'E6': 0.2916412647181878, 'E1': 0.32719155844155845, 'Myra Liddel': 0.32440476190476186, 'E3': 0.47048611111111116, 'E2': 0.3374937562437562, 'Theresa Anderson': 0.3718188674071027, 'Pearl Oglethorpe': 0.3323412698412699, 'Katherina Rogers': 0.2974950396825397, 'Brenda Rogers': 0.36491249491249483, 'E13': 0.3664772727272727, 'Charlotte McDowd': 0.29441164895710353, 'Sylvia Avondale': 0.322751921281333, 'Laura Mandeville': 0.3518172568172568}\n",
      "0.328485836005\n"
     ]
    }
   ],
   "source": [
    "rc = bipartite.node_redundancy(G)\n",
    "print(bipartite.node_redundancy(G))\n",
    "print(sum(rc.values()) / len(G))\n",
    "\n",
    "c = bipartite.clustering(G)\n",
    "print(bipartite.clustering(G))\n",
    "print(bipartite.average_clustering(G))"
   ]
  },
  {
   "cell_type": "markdown",
   "metadata": {},
   "source": [
    "Redundancy & Clustering\n",
    "\n",
    "Redundancy coefficient measures how many of a node's neighbors are linked to the other node type in our Bipartite network. The average redundancy for nodes in our graph, is almost a near perfect 1, at .96. This indicates that the women in our data set, all touch the same events/places. However this doesn't tell us about their contact with each other.  \n",
    "\n",
    "The Clustering coefficeint tells us is divided into two types - local and global. In this data set the average clustering coefficient is our global value, and the coefficient for each node is our local value. The average clustering coefficient for our network is .33. In other words, about one-third of the possible direct connections between a node's neighbors actually exist.\n",
    "\n",
    "This seems to contradict our redundancy coefficient, however put together they seem to tell a story of a high overlap attendance in the same events/spaces, but not a lot of independent connection among neighboring nodes.   "
   ]
  },
  {
   "cell_type": "code",
   "execution_count": 19,
   "metadata": {},
   "outputs": [
    {
     "name": "stdout",
     "output_type": "stream",
     "text": [
      "Biadjacency matrix\n",
      "  (0, 0)\t1\n",
      "  (0, 1)\t1\n",
      "  (0, 2)\t1\n",
      "  (0, 3)\t1\n",
      "  (0, 4)\t1\n",
      "  (0, 5)\t1\n",
      "  (0, 7)\t1\n",
      "  (0, 8)\t1\n",
      "  (1, 0)\t1\n",
      "  (1, 1)\t1\n",
      "  (1, 2)\t1\n",
      "  (1, 4)\t1\n",
      "  (1, 5)\t1\n",
      "  (1, 6)\t1\n",
      "  (1, 7)\t1\n",
      "  (2, 1)\t1\n",
      "  (2, 2)\t1\n",
      "  (2, 3)\t1\n",
      "  (2, 4)\t1\n",
      "  (2, 5)\t1\n",
      "  (2, 6)\t1\n",
      "  (2, 7)\t1\n",
      "  (2, 8)\t1\n",
      "  (3, 0)\t1\n",
      "  (3, 2)\t1\n",
      "  :\t:\n",
      "  (12, 7)\t1\n",
      "  (12, 8)\t1\n",
      "  (12, 9)\t1\n",
      "  (12, 11)\t1\n",
      "  (12, 12)\t1\n",
      "  (12, 13)\t1\n",
      "  (13, 5)\t1\n",
      "  (13, 6)\t1\n",
      "  (13, 8)\t1\n",
      "  (13, 9)\t1\n",
      "  (13, 10)\t1\n",
      "  (13, 11)\t1\n",
      "  (13, 12)\t1\n",
      "  (13, 13)\t1\n",
      "  (14, 6)\t1\n",
      "  (14, 7)\t1\n",
      "  (14, 9)\t1\n",
      "  (14, 10)\t1\n",
      "  (14, 11)\t1\n",
      "  (15, 7)\t1\n",
      "  (15, 8)\t1\n",
      "  (16, 8)\t1\n",
      "  (16, 10)\t1\n",
      "  (17, 8)\t1\n",
      "  (17, 10)\t1\n"
     ]
    }
   ],
   "source": [
    "print(\"Biadjacency matrix\")\n",
    "print(bipartite.biadjacency_matrix(G,women,clubs))"
   ]
  },
  {
   "cell_type": "code",
   "execution_count": 20,
   "metadata": {},
   "outputs": [
    {
     "name": "stdout",
     "output_type": "stream",
     "text": [
      "\n",
      "#Friends, Member\n",
      "17 Evelyn Jefferson\n",
      "15 Laura Mandeville\n",
      "17 Theresa Anderson\n",
      "15 Brenda Rogers\n",
      "11 Charlotte McDowd\n",
      "15 Frances Anderson\n",
      "15 Eleanor Nye\n",
      "16 Pearl Oglethorpe\n",
      "17 Ruth DeSand\n",
      "17 Verne Sanderson\n",
      "16 Myra Liddel\n",
      "16 Katherina Rogers\n",
      "17 Sylvia Avondale\n",
      "17 Nora Fayette\n",
      "17 Helen Lloyd\n",
      "16 Dorothy Murchison\n",
      "12 Olivia Carleton\n",
      "12 Flora Price\n",
      "\n",
      "#Friend meetings, Member\n",
      "50 Evelyn Jefferson\n",
      "45 Laura Mandeville\n",
      "57 Theresa Anderson\n",
      "46 Brenda Rogers\n",
      "24 Charlotte McDowd\n",
      "32 Frances Anderson\n",
      "36 Eleanor Nye\n",
      "31 Pearl Oglethorpe\n",
      "40 Ruth DeSand\n",
      "38 Verne Sanderson\n",
      "33 Myra Liddel\n",
      "37 Katherina Rogers\n",
      "46 Sylvia Avondale\n",
      "43 Nora Fayette\n",
      "34 Helen Lloyd\n",
      "24 Dorothy Murchison\n",
      "14 Olivia Carleton\n",
      "14 Flora Price\n"
     ]
    },
    {
     "data": {
      "image/png": "[encoded data removed]",
      "text/plain": [
       "<matplotlib.figure.Figure at 0x1178e6d50>"
      ]
     },
     "metadata": {},
     "output_type": "display_data"
    }
   ],
   "source": [
    "# project bipartite graph onto women nodes\n",
    "W = bipartite.projected_graph(G, women)\n",
    "print('')\n",
    "print(\"#Friends, Member\")\n",
    "for w in women:\n",
    "    print('%d %s' % (W.degree(w),w))\n",
    "\n",
    "# project bipartite graph onto women nodes keeping number of co-occurence\n",
    "# the degree computed is weighted and counts the total number of shared contacts\n",
    "W = bipartite.weighted_projected_graph(G, women)\n",
    "print('')\n",
    "print(\"#Friend meetings, Member\")\n",
    "for w in women:\n",
    "    print('%d %s' % (W.degree(w,weight='weight'),w))\n",
    "    \n",
    "pos = nx.spring_layout(W, k=.5,iterations=50)\n",
    "nx.draw_networkx_labels(W,pos,font_size=20,font_family='sans-serif', font_color = \"red\")\n",
    " \n",
    "nx.draw_networkx_edges(W,pos,alpha=0.25,width=6)\n",
    "nx.draw_networkx_nodes(W,pos,node_size=3000, node_color='yellow')\n",
    "\n",
    "plt.rcParams[\"figure.figsize\"] = [20,20]\n",
    "plt.show() #add block=True when save as .py"
   ]
  },
  {
   "cell_type": "code",
   "execution_count": 21,
   "metadata": {},
   "outputs": [
    {
     "name": "stdout",
     "output_type": "stream",
     "text": [
      "Theresa Anderson 1.0\n",
      "Nora Fayette 1.0\n",
      "Sylvia Avondale 1.0\n",
      "Verne Sanderson 1.0\n",
      "Evelyn Jefferson 1.0\n",
      "Ruth DeSand 1.0\n",
      "Helen Lloyd 1.0\n",
      "Pearl Oglethorpe 0.941176470588\n",
      "Katherina Rogers 0.941176470588\n",
      "Dorothy Murchison 0.941176470588\n",
      "Myra Liddel 0.941176470588\n",
      "Brenda Rogers 0.882352941176\n",
      "Eleanor Nye 0.882352941176\n",
      "Frances Anderson 0.882352941176\n",
      "Laura Mandeville 0.882352941176\n",
      "Flora Price 0.705882352941\n",
      "Olivia Carleton 0.705882352941\n",
      "Charlotte McDowd 0.647058823529\n"
     ]
    }
   ],
   "source": [
    "degree_centrality = nx.degree_centrality(W)\n",
    "for w in sorted(degree_centrality, key=degree_centrality.get, reverse = True):\n",
    "    print w, degree_centrality[w]\n",
    "  "
   ]
  },
  {
   "cell_type": "code",
   "execution_count": 22,
   "metadata": {},
   "outputs": [
    {
     "name": "stdout",
     "output_type": "stream",
     "text": [
      "Verne Sanderson: 17\n",
      "Theresa Anderson: 17\n",
      "Sylvia Avondale: 17\n",
      "Ruth DeSand: 17\n",
      "Nora Fayette: 17\n",
      "Helen Lloyd: 17\n",
      "Evelyn Jefferson: 17\n",
      "Pearl Oglethorpe: 16\n",
      "Myra Liddel: 16\n",
      "Katherina Rogers: 16\n",
      "Dorothy Murchison: 16\n",
      "Laura Mandeville: 15\n",
      "Frances Anderson: 15\n",
      "Eleanor Nye: 15\n",
      "Brenda Rogers: 15\n",
      "Olivia Carleton: 12\n",
      "Flora Price: 12\n",
      "Charlotte McDowd: 11\n"
     ]
    }
   ],
   "source": [
    "  \n",
    "\n",
    "degree = nx.degree(W)\n",
    "for key, value in sorted(degree.iteritems(), key=lambda (k,v): (v,k), reverse = True):\n",
    "    print \"%s: %s\" % (key, value)\n",
    "    "
   ]
  },
  {
   "cell_type": "code",
   "execution_count": 23,
   "metadata": {},
   "outputs": [
    {
     "data": {
      "text/plain": [
       "17"
      ]
     },
     "execution_count": 23,
     "metadata": {},
     "output_type": "execute_result"
    }
   ],
   "source": [
    "stats.mode(degree.values())[0][0]"
   ]
  },
  {
   "cell_type": "code",
   "execution_count": 24,
   "metadata": {},
   "outputs": [
    {
     "data": {
      "text/plain": [
       "15.444444444444445"
      ]
     },
     "execution_count": 24,
     "metadata": {},
     "output_type": "execute_result"
    }
   ],
   "source": [
    "np.mean(degree.values())"
   ]
  },
  {
   "cell_type": "code",
   "execution_count": 25,
   "metadata": {},
   "outputs": [
    {
     "data": {
      "text/plain": [
       "1.8625616238044678"
      ]
     },
     "execution_count": 25,
     "metadata": {},
     "output_type": "execute_result"
    }
   ],
   "source": [
    "np.std(degree.values())"
   ]
  },
  {
   "cell_type": "code",
   "execution_count": 26,
   "metadata": {},
   "outputs": [
    {
     "name": "stdout",
     "output_type": "stream",
     "text": [
      "E9: 13\n",
      "E8: 13\n",
      "E7: 13\n",
      "E6: 13\n",
      "E5: 8\n",
      "E4: 8\n",
      "E3: 8\n",
      "E2: 8\n",
      "E14: 8\n",
      "E13: 8\n",
      "E12: 8\n",
      "E11: 8\n",
      "E10: 8\n",
      "E1: 8\n"
     ]
    }
   ],
   "source": [
    "e = bipartite.projected_graph(G, clubs)\n",
    "\n",
    "degree = nx.degree(e)\n",
    "for key, value in sorted(degree.iteritems(), key=lambda (k,v): (v,k), reverse = True):\n",
    "    print \"%s: %s\" % (key, value)\n",
    "\n",
    "    \n",
    "  "
   ]
  },
  {
   "cell_type": "code",
   "execution_count": 27,
   "metadata": {},
   "outputs": [
    {
     "data": {
      "text/plain": [
       "8"
      ]
     },
     "execution_count": 27,
     "metadata": {},
     "output_type": "execute_result"
    }
   ],
   "source": [
    "stats.mode(degree.values())[0][0]"
   ]
  },
  {
   "cell_type": "code",
   "execution_count": 28,
   "metadata": {},
   "outputs": [
    {
     "data": {
      "text/plain": [
       "9.4285714285714288"
      ]
     },
     "execution_count": 28,
     "metadata": {},
     "output_type": "execute_result"
    }
   ],
   "source": [
    "np.mean(degree.values())"
   ]
  },
  {
   "cell_type": "code",
   "execution_count": 29,
   "metadata": {},
   "outputs": [
    {
     "data": {
      "text/plain": [
       "2.2587697572631282"
      ]
     },
     "execution_count": 29,
     "metadata": {},
     "output_type": "execute_result"
    }
   ],
   "source": [
    "np.std(degree.values())"
   ]
  },
  {
   "cell_type": "code",
   "execution_count": 33,
   "metadata": {},
   "outputs": [
    {
     "data": {
      "text/plain": [
       "<networkx.classes.graph.Graph at 0x10f6ad810>"
      ]
     },
     "execution_count": 33,
     "metadata": {},
     "output_type": "execute_result"
    }
   ],
   "source": [
    "e1 = nx.ego_graph(G, \"E1\", radius=1, center=True, undirected=False, distance=None)\n",
    "e1"
   ]
  }
 ],
 "metadata": {
  "kernelspec": {
   "display_name": "Python 2",
   "language": "python",
   "name": "python2"
  },
  "language_info": {
   "codemirror_mode": {
    "name": "ipython",
    "version": 2
   },
   "file_extension": ".py",
   "mimetype": "text/x-python",
   "name": "python",
   "nbconvert_exporter": "python",
   "pygments_lexer": "ipython2",
   "version": "2.7.13"
  }
 },
 "nbformat": 4,
 "nbformat_minor": 2
}
