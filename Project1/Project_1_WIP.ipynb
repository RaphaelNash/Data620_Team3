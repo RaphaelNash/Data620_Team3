{
 "cells": [
  {
   "cell_type": "code",
   "execution_count": 1,
   "metadata": {
    "collapsed": false,
    "scrolled": true
   },
   "outputs": [],
   "source": [
    "import matlab as ml\n",
    "import pandas as pd\n",
    "import numpy as np\n",
    "import networkx as nx\n",
    "from networkx import *\n",
    "from matlab import *\n",
    "from urllib2 import *\n",
    "from community import *\n",
    "import re\n",
    "from collections import Counter"
   ]
  },
  {
   "cell_type": "code",
   "execution_count": 2,
   "metadata": {
    "collapsed": false,
    "scrolled": false
   },
   "outputs": [
    {
     "data": {
      "text/plain": [
       "True"
      ]
     },
     "execution_count": 2,
     "metadata": {},
     "output_type": "execute_result"
    }
   ],
   "source": [
    "# use this version or GML file will fail to tokenize (Formatting issue) ->    pip install networkx==1.9.1\n",
    "\n",
    "url = \"http://networkdata.ics.uci.edu/data/football/football.gml\"\n",
    "handle = urlopen(url)\n",
    "G = nx.read_gml(handle)\n",
    "nx.draw(G,pos=nx.fruchterman_reingold_layout(G), nodecolor='y',edge_color='b',labels='label')\n",
    "plt.show()\n",
    "\n",
    "#Play around with the nodes turned into a dataframe\n",
    "df = pd.DataFrame(G.node)\n",
    "df.ix['value'].unique()\n",
    "\n",
    "#Quick checks\n",
    "G.is_directed()\n",
    "G.is_multigraph()"
   ]
  },
  {
   "cell_type": "code",
   "execution_count": 35,
   "metadata": {
    "collapsed": false
   },
   "outputs": [
    {
     "data": {
      "text/plain": [
       "613"
      ]
     },
     "execution_count": 35,
     "metadata": {},
     "output_type": "execute_result"
    }
   ],
   "source": [
    "g = nx.DiGraph((x, y, {'weight': v}) for (x, y), v in Counter(G.edges()).items())\n",
    "edge_weights = g.edges(data=True)\n",
    "\n",
    "len(edge_weights)"
   ]
  },
  {
   "cell_type": "code",
   "execution_count": 6,
   "metadata": {
    "collapsed": false
   },
   "outputs": [],
   "source": [
    "G.nodes(data=True)\n",
    "centrality_of_nodes = degree_centrality(G)\n",
    "for row in G.nodes_iter():\n",
    "    G.node[row]['centrality'] = centrality_of_nodes[row]"
   ]
  },
  {
   "cell_type": "code",
   "execution_count": 37,
   "metadata": {
    "collapsed": false,
    "scrolled": true
   },
   "outputs": [
    {
     "name": "stdout",
     "output_type": "stream",
     "text": [
      "616\n"
     ]
    }
   ],
   "source": [
    "pointer = 0\n",
    "for n1,n2,n3 in G.edges_iter(data=True):\n",
    "    #G.edge[n1][n2] = {'weight': edge_weights[][2]}\n",
    "    #print G.edge[n1][n2]\n",
    "    pointer += 1\n",
    "print pointer\n",
    "## This iterates 2 more times than needed...I'm missing crucial knowledge"
   ]
  },
  {
   "cell_type": "code",
   "execution_count": null,
   "metadata": {
    "collapsed": false
   },
   "outputs": [],
   "source": []
  }
 ],
 "metadata": {
  "kernelspec": {
   "display_name": "Python 2",
   "language": "python",
   "name": "python2"
  },
  "language_info": {
   "codemirror_mode": {
    "name": "ipython",
    "version": 2
   },
   "file_extension": ".py",
   "mimetype": "text/x-python",
   "name": "python",
   "nbconvert_exporter": "python",
   "pygments_lexer": "ipython2",
   "version": "2.7.11"
  }
 },
 "nbformat": 4,
 "nbformat_minor": 0
}
