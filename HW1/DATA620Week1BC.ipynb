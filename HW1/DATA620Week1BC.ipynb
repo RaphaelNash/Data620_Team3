Digital1977sMBP:~ digitalmarketer1977$ python
Python 2.7.13 |Anaconda custom (x86_64)| (default, Dec 20 2016, 23:05:08) 
[GCC 4.2.1 Compatible Apple LLVM 6.0 (clang-600.0.57)] on darwin
Type "help", "copyright", "credits" or "license" for more information.
Anaconda is brought to you by Continuum Analytics.
Please check out: http://continuum.io/thanks and https://anaconda.org
>>> from graphviz import Digraph
>>> dot = Digraph(comment='C suite')
>>> dot
<graphviz.dot.Digraph object at 0x102b66310>
>>> dot.node('A', 'CEO')
>>> dot.node('B', 'CFO')
>>> dot.node('C', 'COO')
>>> dot.node('D', 'CIO')
>>> dot.node('E', 'CDO')
>>> dot.node('F', 'CAO')
>>> dot.edges(['AB','AC','BD','CE','BF'])
>>> dot.edge('D','F',constraint='false')
>>> print(dot.source)
// C suite
digraph {
	A [label=CEO]
	B [label=CFO]
	C [label=COO]
	D [label=CIO]
	E [label=CDO]
	F [label=CAO]
		A -> B
		A -> C
		B -> D
		C -> E
		B -> F
		D -> F [constraint=false]
}
>>> dot.render('test-output/c-suite.gv', view=True)
'test-output/c-suite.gv.pdf'

