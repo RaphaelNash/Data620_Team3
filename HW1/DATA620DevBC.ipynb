Last login: Sat Jun 10 16:18:10 on ttys002
Digital1977sMBP:~ digitalmarketer1977$ pip install --upgrade pip 
Requirement already up-to-date: pip in ./anaconda/lib/python2.7/site-packages
Digital1977sMBP:~ digitalmarketer1977$ pip install jupyter
Requirement already satisfied: jupyter in ./anaconda/lib/python2.7/site-packages
Digital1977sMBP:~ digitalmarketer1977$ pip install graphlab--create
Requirement already satisfied: graphlab--create in ./anaconda/lib/python2.7/site-packages
Requirement already satisfied: psclient in ./anaconda/lib/python2.7/site-packages (from graphlab--create)
Requirement already satisfied: awscli==1.6.2 in ./anaconda/lib/python2.7/site-packages (from graphlab--create)
Requirement already satisfied: decorator==4.0.9 in ./anaconda/lib/python2.7/site-packages (from graphlab--create)
Requirement already satisfied: multipledispatch>=0.4.7 in ./anaconda/lib/python2.7/site-packages (from graphlab--create)
Requirement already satisfied: certifi==2015.04.28 in ./anaconda/lib/python2.7/site-packages (from graphlab--create)
Requirement already satisfied: tornado==4.3 in ./anaconda/lib/python2.7/site-packages (from graphlab--create)
Requirement already satisfied: sseclient==0.0.8 in ./anaconda/lib/python2.7/site-packages (from graphlab--create)
Requirement already satisfied: jsonschema==2.5.1 in ./anaconda/lib/python2.7/site-packages (from graphlab--create)
Requirement already satisfied: boto==2.33.0 in ./anaconda/lib/python2.7/site-packages (from graphlab--create)
Requirement already satisfied: genson==0.1.0 in ./anaconda/lib/python2.7/site-packages (from graphlab--create)
Requirement already satisfied: requests==2.9.1 in ./anaconda/lib/python2.7/site-packages (from graphlab--create)
Requirement already satisfied: prettytable==0.7.2 in ./anaconda/lib/python2.7/site-packages (from graphlab--create)
Requirement already satisfied: python-dateutil in ./anaconda/lib/python2.7/site-packages (from psclient->graphlab--create)
Requirement already satisfied: botocore<0.74.0,>=0.73.0 in ./anaconda/lib/python2.7/site-packages (from awscli==1.6.2->graphlab--create)
Requirement already satisfied: docutils>=0.10 in ./anaconda/lib/python2.7/site-packages (from awscli==1.6.2->graphlab--create)
Requirement already satisfied: rsa==3.1.2 in ./anaconda/lib/python2.7/site-packages (from awscli==1.6.2->graphlab--create)
Requirement already satisfied: colorama==0.2.5 in ./anaconda/lib/python2.7/site-packages (from awscli==1.6.2->graphlab--create)
Requirement already satisfied: six>=1.1.0 in ./anaconda/lib/python2.7/site-packages (from awscli==1.6.2->graphlab--create)
Requirement already satisfied: bcdoc<0.13.0,>=0.12.0 in ./anaconda/lib/python2.7/site-packages (from awscli==1.6.2->graphlab--create)
Requirement already satisfied: backports-abc>=0.4 in ./anaconda/lib/python2.7/site-packages (from tornado==4.3->graphlab--create)
Requirement already satisfied: backports.ssl-match-hostname in ./anaconda/lib/python2.7/site-packages (from tornado==4.3->graphlab--create)
Requirement already satisfied: singledispatch in ./anaconda/lib/python2.7/site-packages (from tornado==4.3->graphlab--create)
Requirement already satisfied: functools32; python_version == "2.7" in ./anaconda/lib/python2.7/site-packages (from jsonschema==2.5.1->graphlab--create)
Requirement already satisfied: jmespath==0.5.0 in ./anaconda/lib/python2.7/site-packages (from botocore<0.74.0,>=0.73.0->awscli==1.6.2->graphlab--create)
Requirement already satisfied: pyasn1>=0.1.3 in ./anaconda/lib/python2.7/site-packages (from rsa==3.1.2->awscli==1.6.2->graphlab--create)
Digital1977sMBP:~ digitalmarketer1977$ python
Python 2.7.13 |Anaconda custom (x86_64)| (default, Dec 20 2016, 23:05:08) 
[GCC 4.2.1 Compatible Apple LLVM 6.0 (clang-600.0.57)] on darwin
Type "help", "copyright", "credits" or "license" for more information.
Anaconda is brought to you by Continuum Analytics.
Please check out: http://continuum.io/thanks and https://anaconda.org
>>> import graphlab as gl
>>> gl.canvas.set_target('ipynb')
[WARNING] graphlab.canvas.utils: This Python session does not appear to be running in an interactive IPython Notebook or Jupyter Notebook. Use of the 'ipynb' target may behave unexpectedly or result in errors.
>>> vertices = gl.SFrame.read_csv('https://static.turi.com/datasets/bond/bond_vertices.csv')
This non-commercial license of GraphLab Create for academic use is assigned to blandon.casenave@spsmail.cuny.edu and will expire on June 10, 2018.
[INFO] graphlab.cython.cy_server: GraphLab Create v2.1 started. Logging: /tmp/graphlab_server_1497126664.log
Downloading https://static.turi.com/datasets/bond/bond_vertices.csv to /var/tmp/graphlab-digitalmarketer1977/5029/5a628c13-82a9-4d04-b0c8-7eda6d10a966.csv
Finished parsing file https://static.turi.com/datasets/bond/bond_vertices.csv
Parsing completed. Parsed 10 lines in 0.025172 secs.
------------------------------------------------------
Inferred types from first 100 line(s) of file as 
column_type_hints=[str,str,int,int]
If parsing fails due to incorrect types, you can correct
the inferred type list above and pass it to read_csv in
the column_type_hints argument
------------------------------------------------------
Finished parsing file https://static.turi.com/datasets/bond/bond_vertices.csv
Parsing completed. Parsed 10 lines in 0.01301 secs.
>>> edges = gl.SFrame.read_csv('https://static.turi.com/datasets/bond/bond_edges.csv')
Downloading https://static.turi.com/datasets/bond/bond_edges.csv to /var/tmp/graphlab-digitalmarketer1977/5029/d2a4111a-198c-4466-bb14-13b61c91656e.csv
Finished parsing file https://static.turi.com/datasets/bond/bond_edges.csv
Parsing completed. Parsed 20 lines in 0.014139 secs.
------------------------------------------------------
Inferred types from first 100 line(s) of file as 
column_type_hints=[str,str,str]
If parsing fails due to incorrect types, you can correct
the inferred type list above and pass it to read_csv in
the column_type_hints argument
------------------------------------------------------
Finished parsing file https://static.turi.com/datasets/bond/bond_edges.csv
Parsing completed. Parsed 20 lines in 0.011476 secs.
>>> vertices.show()
Traceback (most recent call last):
  File "<stdin>", line 1, in <module>
  File "/Users/digitalmarketer1977/anaconda/lib/python2.7/site-packages/graphlab/data_structures/sframe.py", line 4952, in show
    show(self, view=view, x=x, y=y)
  File "/Users/digitalmarketer1977/anaconda/lib/python2.7/site-packages/multipledispatch/dispatcher.py", line 164, in __call__
    return func(*args, **kwargs)
  File "/Users/digitalmarketer1977/anaconda/lib/python2.7/site-packages/graphlab/canvas/glc_display_dispatch.py", line 10, in show
    return graphlab.canvas.show(graphlab.canvas.views.sframe.SFrameView(obj, params=kwargs))
  File "/Users/digitalmarketer1977/anaconda/lib/python2.7/site-packages/graphlab/canvas/utils.py", line 131, in show
    return get_target().show()
  File "/Users/digitalmarketer1977/anaconda/lib/python2.7/site-packages/graphlab/canvas/target.py", line 173, in show
    import IPython
  File "/Users/digitalmarketer1977/anaconda/lib/python2.7/site-packages/IPython/__init__.py", line 48, in <module>
    from .core.application import Application
  File "/Users/digitalmarketer1977/anaconda/lib/python2.7/site-packages/IPython/core/application.py", line 25, in <module>
    from IPython.core import release, crashhandler
  File "/Users/digitalmarketer1977/anaconda/lib/python2.7/site-packages/IPython/core/crashhandler.py", line 28, in <module>
    from IPython.core import ultratb
  File "/Users/digitalmarketer1977/anaconda/lib/python2.7/site-packages/IPython/core/ultratb.py", line 128, in <module>
    from IPython.utils.terminal import get_terminal_size
  File "/Users/digitalmarketer1977/anaconda/lib/python2.7/site-packages/IPython/utils/terminal.py", line 22, in <module>
    from backports.shutil_get_terminal_size import get_terminal_size as _get_terminal_size
ImportError: No module named shutil_get_terminal_size
>>> edges.show()
Traceback (most recent call last):
  File "<stdin>", line 1, in <module>
  File "/Users/digitalmarketer1977/anaconda/lib/python2.7/site-packages/graphlab/data_structures/sframe.py", line 4952, in show
    show(self, view=view, x=x, y=y)
  File "/Users/digitalmarketer1977/anaconda/lib/python2.7/site-packages/multipledispatch/dispatcher.py", line 164, in __call__
    return func(*args, **kwargs)
  File "/Users/digitalmarketer1977/anaconda/lib/python2.7/site-packages/graphlab/canvas/glc_display_dispatch.py", line 10, in show
    return graphlab.canvas.show(graphlab.canvas.views.sframe.SFrameView(obj, params=kwargs))
  File "/Users/digitalmarketer1977/anaconda/lib/python2.7/site-packages/graphlab/canvas/utils.py", line 131, in show
    return get_target().show()
  File "/Users/digitalmarketer1977/anaconda/lib/python2.7/site-packages/graphlab/canvas/target.py", line 173, in show
    import IPython
  File "/Users/digitalmarketer1977/anaconda/lib/python2.7/site-packages/IPython/__init__.py", line 48, in <module>
    from .core.application import Application
  File "/Users/digitalmarketer1977/anaconda/lib/python2.7/site-packages/IPython/core/application.py", line 25, in <module>
    from IPython.core import release, crashhandler
  File "/Users/digitalmarketer1977/anaconda/lib/python2.7/site-packages/IPython/core/crashhandler.py", line 28, in <module>
    from IPython.core import ultratb
  File "/Users/digitalmarketer1977/anaconda/lib/python2.7/site-packages/IPython/core/ultratb.py", line 128, in <module>
    from IPython.utils.terminal import get_terminal_size
  File "/Users/digitalmarketer1977/anaconda/lib/python2.7/site-packages/IPython/utils/terminal.py", line 22, in <module>
    from backports.shutil_get_terminal_size import get_terminal_size as _get_terminal_size
ImportError: No module named shutil_get_terminal_size
>>> g = gl.SGraph()
>>> g = g.add_vertices(vertices=vertices, vid_field='name')
>>> g = g.add_edges(edges=edges, src_field='src', dst_field='dst')
>>> g.get_vertices()
Columns:
	__id	str
	gender	str
	license_to_kill	int
	villian	int

Rows: 10

Data:
+----------------+--------+-----------------+---------+
|      __id      | gender | license_to_kill | villian |
+----------------+--------+-----------------+---------+
|   Moneypenny   |   F    |        1        |    0    |
| Inga Bergstorm |   F    |        0        |    0    |
|  Henry Gupta   |   M    |        0        |    1    |
|    Wai Lin     |   F    |        1        |    0    |
|  Paris Carver  |   F    |        0        |    1    |
|       M        |   M    |        1        |    0    |
|       Q        |   M    |        1        |    0    |
|   James Bond   |   M    |        1        |    0    |
| Elliot Carver  |   M    |        0        |    1    |
|   Gotz Otto    |   M    |        0        |    1    |
+----------------+--------+-----------------+---------+
[10 rows x 4 columns]

>>> g.get_edges()
Columns:
	__src_id	str
	__dst_id	str
	relation	str

Rows: 20

Data:
+----------------+----------------+------------+
|    __src_id    |    __dst_id    |  relation  |
+----------------+----------------+------------+
|   Moneypenny   |       M        | managed_by |
| Inga Bergstorm |   James Bond   |   friend   |
|   Moneypenny   |       Q        | colleague  |
|  Henry Gupta   | Elliot Carver  | killed_by  |
|       Q        |   Moneypenny   | colleague  |
|       M        |   Moneypenny   |  worksfor  |
|   James Bond   | Inga Bergstorm |   friend   |
|   James Bond   |       M        | managed_by |
|       Q        |       M        | managed_by |
|    Wai Lin     |   James Bond   |   friend   |
+----------------+----------------+------------+
[20 rows x 3 columns]
Note: Only the head of the SFrame is printed.
You can use print_rows(num_rows=m, num_columns=n) to print more rows and columns.
>>> g.get_edges(fields={'relation': 'friend'})
Columns:
	__src_id	str
	__dst_id	str
	relation	str

Rows: 4

Data:
+----------------+----------------+----------+
|    __src_id    |    __dst_id    | relation |
+----------------+----------------+----------+
| Inga Bergstorm |   James Bond   |  friend  |
|   James Bond   | Inga Bergstorm |  friend  |
|    Wai Lin     |   James Bond   |  friend  |
|   James Bond   |    Wai Lin     |  friend  |
+----------------+----------------+----------+
[4 rows x 3 columns]

>>> 
>>> pr = gl.pagerank.create(g)
Counting out degree
Done counting out degree
+-----------+-----------------------+
| Iteration | L1 change in pagerank |
+-----------+-----------------------+
| 1         | 6.65833               |
| 2         | 4.65611               |
| 3         | 3.46298               |
| 4         | 2.55686               |
| 5         | 1.95422               |
| 6         | 1.42139               |
| 7         | 1.10464               |
| 8         | 0.806704              |
| 9         | 0.631771              |
| 10        | 0.465388              |
| 11        | 0.364898              |
| 12        | 0.271257              |
| 13        | 0.212255              |
| 14        | 0.159062              |
| 15        | 0.124071              |
| 16        | 0.0935911             |
| 17        | 0.0727674             |
| 18        | 0.0551714             |
| 19        | 0.0427744             |
| 20        | 0.0325555             |
+-----------+-----------------------+
>>> pr.get('pagerank').topk(column_name='pagerank')
Columns:
	__id	str
	pagerank	float
	delta	float

Rows: 10

Data:
+----------------+----------------+-------------------+
|      __id      |    pagerank    |       delta       |
+----------------+----------------+-------------------+
|   James Bond   | 2.52743578524  |  0.0132914517076  |
|       M        | 1.87718696576  |  0.00666194771763 |
|   Moneypenny   | 1.18363921275  |  0.00143637385736 |
|       Q        | 1.18363921275  |  0.00143637385736 |
|    Wai Lin     | 0.869872717136 |  0.00477951418076 |
| Inga Bergstorm | 0.869872717136 |  0.00477951418076 |
| Elliot Carver  | 0.634064732205 | 0.000113553313724 |
|  Henry Gupta   | 0.284762885673 | 1.89255522873e-05 |
|  Paris Carver  | 0.284762885673 | 1.89255522873e-05 |
|   Gotz Otto    | 0.284762885673 | 1.89255522873e-05 |
+----------------+----------------+-------------------+
[10 rows x 3 columns]

>>> 
