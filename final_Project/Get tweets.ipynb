{
 "cells": [
  {
   "cell_type": "code",
   "execution_count": 16,
   "metadata": {
    "collapsed": true
   },
   "outputs": [],
   "source": [
    "# jupyter notebook --NotebookApp.iopub_data_rate_limit=10000000000\n",
    "import networkx as nx\n",
    "import pandas as pd\n",
    "import urllib\n",
    "import numpy as np\n",
    "import matplotlib.pyplot as plt \n",
    "import sys\n",
    "from datetime import datetime\n",
    "import os\n",
    "from networkx.algorithms import bipartite as bi\n",
    "#twitter OAUTH \n",
    "from time import *\n",
    "import json\n",
    "import argparse as ag\n",
    "import tweepy as tw\n",
    "from tweepy.streaming import StreamListener as sl\n",
    "from tweepy import OAuthHandler as oa\n",
    "from tweepy import Stream as st\n",
    "import oauth2 as oauth\n",
    "import re\n",
    "import dateutil.parser as dp\n",
    "from pytz import timezone as tz\n",
    "import pytz "
   ]
  },
  {
   "cell_type": "code",
   "execution_count": 2,
   "metadata": {
    "collapsed": true
   },
   "outputs": [],
   "source": [
    "CONSUMER_KEY = \"lYrGF2AILP0FG6VsqxUzLw8sf\"\n",
    "CONSUMER_SECRET = \"Ht0qcCxODFMnIWoUmNzHnJQFFoyh8tMixIhGOFbGl1g8ocVXBd\"\n",
    "ACCESS_KEY = \"171168753-2PBMkqxs5SqIHDg8dWC6fPpp9BCCc1Lak8TbxB0K\"\n",
    "ACCESS_SECRET = \"nmmfS2S4JTSK3daDHsFpEVMDV2g68IvZlE64AnWdiviEA\"\n",
    "\n",
    "consumer = oauth.Consumer(key=CONSUMER_KEY, secret=CONSUMER_SECRET)\n",
    "access_token = oauth.Token(key=ACCESS_KEY, secret=ACCESS_SECRET)\n",
    "client = oauth.Client(consumer, access_token)"
   ]
  },
  {
   "cell_type": "code",
   "execution_count": 3,
   "metadata": {
    "collapsed": true
   },
   "outputs": [],
   "source": [
    "OAUTH_KEYS = {'consumer_key':CONSUMER_KEY, 'consumer_secret':CONSUMER_SECRET,\n",
    " 'access_token_key':ACCESS_KEY, 'access_token_secret':ACCESS_SECRET}\n",
    "auth = tw.OAuthHandler(OAUTH_KEYS['consumer_key'], OAUTH_KEYS['consumer_secret'])\n",
    "api = tw.API(auth, wait_on_rate_limit=True, wait_on_rate_limit_notify=True)"
   ]
  },
  {
   "cell_type": "code",
   "execution_count": 52,
   "metadata": {
    "collapsed": false
   },
   "outputs": [],
   "source": [
    "theTask = pd.read_csv('./task1.csv',index_col=False )"
   ]
  },
  {
   "cell_type": "code",
   "execution_count": 55,
   "metadata": {
    "collapsed": false
   },
   "outputs": [
    {
     "name": "stdout",
     "output_type": "stream",
     "text": [
      "Rate limit reached. Sleeping for: 611\n",
      "Rate limit reached. Sleeping for: 599\n",
      "Rate limit reached. Sleeping for: 611\n"
     ]
    }
   ],
   "source": [
    "negativeList = []\n",
    "for x,y in theTask.iterrows():\n",
    "    try:\n",
    "        somelist =[]\n",
    "        for status in tw.Cursor(api.user_timeline,id=str(y['screen_name'])).items():\n",
    "            somelist.append(status)\n",
    "\n",
    "        sn = []\n",
    "        text = []\n",
    "        timestamp =[]\n",
    "        for tweet in somelist:\n",
    "            #print tweet.user.screen_name, tweet.created_at, tweet.text\n",
    "            timestamp.append(datetime.strptime(str(tweet.created_at), \"%Y-%m-%d %H:%M:%S\"))\n",
    "            sn.append(tweet.user.screen_name.encode('utf-8'))\n",
    "            text.append(tweet.text.encode('utf-8'))\n",
    "\n",
    "        df = pd.DataFrame()\n",
    "        df['timestamp'] = timestamp\n",
    "        df['sn'] = sn\n",
    "        df['text'] = text\n",
    "        df = df[df['timestamp']>'2016-01-01 08:00:00']\n",
    "        df = df[df['timestamp']<'2017-02-01 08:00:00']\n",
    "    \n",
    "        df.to_csv(path_or_buf='./tweets/'+str(y['name'])+'.csv',sep=';',index=False,header=['timestamp','sn','text'])\n",
    "        negativeList.append(y['name'])\n",
    "    except: \n",
    "        pass"
   ]
  },
  {
   "cell_type": "code",
   "execution_count": 44,
   "metadata": {
    "collapsed": false
   },
   "outputs": [
    {
     "data": {
      "text/plain": [
       "['Andrew Jenks',\n",
       " 'John Lewis',\n",
       " 'Jason Collins',\n",
       " 'Madeleine Albright',\n",
       " 'The Atlantic',\n",
       " 'Chad Griffin',\n",
       " 'Hardball',\n",
       " 'Ezra Klein',\n",
       " 'Alicia Machado',\n",
       " 'Official Team Trump',\n",
       " 'The Briefing',\n",
       " 'Daniel Scavino Jr.',\n",
       " 'Ben Smith',\n",
       " 'Mitt Romney',\n",
       " 'Washington Post',\n",
       " 'one Vox',\n",
       " 'Vox',\n",
       " 'Kellyanne Conway',\n",
       " 'The New York Times',\n",
       " 'Military Times',\n",
       " 'IGNITE National',\n",
       " 'Enquirer',\n",
       " 'Ted Cruz',\n",
       " 'Washington Examiner',\n",
       " 'Every Voice',\n",
       " 'Los Angeles Times',\n",
       " 'Rachael Gass',\n",
       " 'Funny Or Die']"
      ]
     },
     "execution_count": 44,
     "metadata": {},
     "output_type": "execute_result"
    }
   ],
   "source": [
    "negativeList"
   ]
  },
  {
   "cell_type": "code",
   "execution_count": 53,
   "metadata": {
    "collapsed": false
   },
   "outputs": [],
   "source": [
    "theTask = theTask[~theTask['name'].isin(negativeList)]"
   ]
  },
  {
   "cell_type": "code",
   "execution_count": 54,
   "metadata": {
    "collapsed": false
   },
   "outputs": [
    {
     "data": {
      "text/html": [
       "<div>\n",
       "<table border=\"1\" class=\"dataframe\">\n",
       "  <thead>\n",
       "    <tr style=\"text-align: right;\">\n",
       "      <th></th>\n",
       "      <th>name</th>\n",
       "      <th>screen_name</th>\n",
       "    </tr>\n",
       "  </thead>\n",
       "  <tbody>\n",
       "    <tr>\n",
       "      <th>28</th>\n",
       "      <td>Young PwD 4 Hillary</td>\n",
       "      <td>YoungPwD4HRC</td>\n",
       "    </tr>\n",
       "    <tr>\n",
       "      <th>29</th>\n",
       "      <td>Hillary for America</td>\n",
       "      <td>HFA</td>\n",
       "    </tr>\n",
       "    <tr>\n",
       "      <th>30</th>\n",
       "      <td>Elizabeth Plank</td>\n",
       "      <td>feministabulous</td>\n",
       "    </tr>\n",
       "    <tr>\n",
       "      <th>31</th>\n",
       "      <td>Good Morning America</td>\n",
       "      <td>GMA</td>\n",
       "    </tr>\n",
       "    <tr>\n",
       "      <th>32</th>\n",
       "      <td>David Fahrenthold</td>\n",
       "      <td>Fahrenthold</td>\n",
       "    </tr>\n",
       "    <tr>\n",
       "      <th>33</th>\n",
       "      <td>Senator Harry Reid</td>\n",
       "      <td>SenatorReid</td>\n",
       "    </tr>\n",
       "    <tr>\n",
       "      <th>34</th>\n",
       "      <td>The White House</td>\n",
       "      <td>WhiteHouse</td>\n",
       "    </tr>\n",
       "    <tr>\n",
       "      <th>35</th>\n",
       "      <td>Hillary for Ohio</td>\n",
       "      <td>HillaryforOH</td>\n",
       "    </tr>\n",
       "    <tr>\n",
       "      <th>36</th>\n",
       "      <td>Bernie Sanders</td>\n",
       "      <td>BernieSanders</td>\n",
       "    </tr>\n",
       "    <tr>\n",
       "      <th>37</th>\n",
       "      <td>Rev. Dr. Barber</td>\n",
       "      <td>RevDrBarber</td>\n",
       "    </tr>\n",
       "    <tr>\n",
       "      <th>38</th>\n",
       "      <td>George Takei</td>\n",
       "      <td>GeorgeTakei</td>\n",
       "    </tr>\n",
       "    <tr>\n",
       "      <th>39</th>\n",
       "      <td>Mic</td>\n",
       "      <td>mic</td>\n",
       "    </tr>\n",
       "    <tr>\n",
       "      <th>40</th>\n",
       "      <td>Clinton Foundation</td>\n",
       "      <td>ClintonFdn</td>\n",
       "    </tr>\n",
       "    <tr>\n",
       "      <th>41</th>\n",
       "      <td>Bernie Sanders</td>\n",
       "      <td>SenSanders</td>\n",
       "    </tr>\n",
       "    <tr>\n",
       "      <th>42</th>\n",
       "      <td>Eric Trump</td>\n",
       "      <td>EricTrump</td>\n",
       "    </tr>\n",
       "    <tr>\n",
       "      <th>43</th>\n",
       "      <td>Jorge_Silva</td>\n",
       "      <td>Jorge_Silva</td>\n",
       "    </tr>\n",
       "    <tr>\n",
       "      <th>44</th>\n",
       "      <td>Kirsten Gillibrand</td>\n",
       "      <td>SenGillibrand</td>\n",
       "    </tr>\n",
       "    <tr>\n",
       "      <th>45</th>\n",
       "      <td>Evan McMullin</td>\n",
       "      <td>Evan_McMullin</td>\n",
       "    </tr>\n",
       "    <tr>\n",
       "      <th>46</th>\n",
       "      <td>Tom Joyner</td>\n",
       "      <td>TJMShow</td>\n",
       "    </tr>\n",
       "    <tr>\n",
       "      <th>47</th>\n",
       "      <td>Library of Congress</td>\n",
       "      <td>librarycongress</td>\n",
       "    </tr>\n",
       "    <tr>\n",
       "      <th>48</th>\n",
       "      <td>Sophia Bush</td>\n",
       "      <td>SophiaBush</td>\n",
       "    </tr>\n",
       "    <tr>\n",
       "      <th>49</th>\n",
       "      <td>Jennifer Jacobs</td>\n",
       "      <td>JenniferJJacobs</td>\n",
       "    </tr>\n",
       "    <tr>\n",
       "      <th>50</th>\n",
       "      <td>Marc E. Elias</td>\n",
       "      <td>marceelias</td>\n",
       "    </tr>\n",
       "    <tr>\n",
       "      <th>51</th>\n",
       "      <td>Laura Rosenberger</td>\n",
       "      <td>rosenbergerlm</td>\n",
       "    </tr>\n",
       "    <tr>\n",
       "      <th>52</th>\n",
       "      <td>Twitter Moments</td>\n",
       "      <td>TwitterMoments</td>\n",
       "    </tr>\n",
       "    <tr>\n",
       "      <th>53</th>\n",
       "      <td>Kurt Eichenwald</td>\n",
       "      <td>kurteichenwald</td>\n",
       "    </tr>\n",
       "    <tr>\n",
       "      <th>54</th>\n",
       "      <td>Newsweek</td>\n",
       "      <td>Newsweek</td>\n",
       "    </tr>\n",
       "    <tr>\n",
       "      <th>55</th>\n",
       "      <td>Lou Dobbs</td>\n",
       "      <td>LouDobbs</td>\n",
       "    </tr>\n",
       "    <tr>\n",
       "      <th>56</th>\n",
       "      <td>Ivanka Trump</td>\n",
       "      <td>IvankaTrump</td>\n",
       "    </tr>\n",
       "    <tr>\n",
       "      <th>57</th>\n",
       "      <td>CNBC Opinion</td>\n",
       "      <td>CNBCopinion</td>\n",
       "    </tr>\n",
       "    <tr>\n",
       "      <th>58</th>\n",
       "      <td>Laura Seay</td>\n",
       "      <td>texasinafrica</td>\n",
       "    </tr>\n",
       "    <tr>\n",
       "      <th>59</th>\n",
       "      <td>College Democrats</td>\n",
       "      <td>CollegeDems</td>\n",
       "    </tr>\n",
       "  </tbody>\n",
       "</table>\n",
       "</div>"
      ],
      "text/plain": [
       "                    name      screen_name\n",
       "28   Young PwD 4 Hillary     YoungPwD4HRC\n",
       "29   Hillary for America              HFA\n",
       "30       Elizabeth Plank  feministabulous\n",
       "31  Good Morning America              GMA\n",
       "32     David Fahrenthold      Fahrenthold\n",
       "33    Senator Harry Reid      SenatorReid\n",
       "34       The White House       WhiteHouse\n",
       "35      Hillary for Ohio     HillaryforOH\n",
       "36        Bernie Sanders    BernieSanders\n",
       "37       Rev. Dr. Barber      RevDrBarber\n",
       "38          George Takei      GeorgeTakei\n",
       "39                   Mic              mic\n",
       "40    Clinton Foundation       ClintonFdn\n",
       "41        Bernie Sanders       SenSanders\n",
       "42            Eric Trump        EricTrump\n",
       "43           Jorge_Silva      Jorge_Silva\n",
       "44    Kirsten Gillibrand    SenGillibrand\n",
       "45         Evan McMullin    Evan_McMullin\n",
       "46            Tom Joyner          TJMShow\n",
       "47   Library of Congress  librarycongress\n",
       "48           Sophia Bush       SophiaBush\n",
       "49       Jennifer Jacobs  JenniferJJacobs\n",
       "50         Marc E. Elias       marceelias\n",
       "51     Laura Rosenberger    rosenbergerlm\n",
       "52       Twitter Moments   TwitterMoments\n",
       "53       Kurt Eichenwald   kurteichenwald\n",
       "54              Newsweek         Newsweek\n",
       "55             Lou Dobbs         LouDobbs\n",
       "56          Ivanka Trump      IvankaTrump\n",
       "57          CNBC Opinion      CNBCopinion\n",
       "58            Laura Seay    texasinafrica\n",
       "59     College Democrats      CollegeDems"
      ]
     },
     "execution_count": 54,
     "metadata": {},
     "output_type": "execute_result"
    }
   ],
   "source": [
    "theTask"
   ]
  },
  {
   "cell_type": "code",
   "execution_count": null,
   "metadata": {
    "collapsed": true
   },
   "outputs": [],
   "source": []
  }
 ],
 "metadata": {
  "kernelspec": {
   "display_name": "Python 2",
   "language": "python",
   "name": "python2"
  },
  "language_info": {
   "codemirror_mode": {
    "name": "ipython",
    "version": 2
   },
   "file_extension": ".py",
   "mimetype": "text/x-python",
   "name": "python",
   "nbconvert_exporter": "python",
   "pygments_lexer": "ipython2",
   "version": "2.7.11"
  }
 },
 "nbformat": 4,
 "nbformat_minor": 0
}
