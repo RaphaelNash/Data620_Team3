{
 "cells": [
  {
   "cell_type": "code",
   "execution_count": 16,
   "metadata": {
    "collapsed": true
   },
   "outputs": [],
   "source": [
    "# jupyter notebook --NotebookApp.iopub_data_rate_limit=10000000000\n",
    "import networkx as nx\n",
    "import pandas as pd\n",
    "import urllib\n",
    "import numpy as np\n",
    "import matplotlib.pyplot as plt \n",
    "import sys\n",
    "from datetime import datetime\n",
    "import os\n",
    "from networkx.algorithms import bipartite as bi\n",
    "#twitter OAUTH \n",
    "from time import *\n",
    "import json\n",
    "import argparse as ag\n",
    "import tweepy as tw\n",
    "from tweepy.streaming import StreamListener as sl\n",
    "from tweepy import OAuthHandler as oa\n",
    "from tweepy import Stream as st\n",
    "import oauth2 as oauth\n",
    "import re\n",
    "import dateutil.parser as dp\n",
    "from pytz import timezone as tz\n",
    "import pytz "
   ]
  },
  {
   "cell_type": "code",
   "execution_count": 2,
   "metadata": {
    "collapsed": true
   },
   "outputs": [],
   "source": [
    "CONSUMER_KEY = \"lYrGF2AILP0FG6VsqxUzLw8sf\"\n",
    "CONSUMER_SECRET = \"Ht0qcCxODFMnIWoUmNzHnJQFFoyh8tMixIhGOFbGl1g8ocVXBd\"\n",
    "ACCESS_KEY = \"171168753-2PBMkqxs5SqIHDg8dWC6fPpp9BCCc1Lak8TbxB0K\"\n",
    "ACCESS_SECRET = \"nmmfS2S4JTSK3daDHsFpEVMDV2g68IvZlE64AnWdiviEA\"\n",
    "\n",
    "consumer = oauth.Consumer(key=CONSUMER_KEY, secret=CONSUMER_SECRET)\n",
    "access_token = oauth.Token(key=ACCESS_KEY, secret=ACCESS_SECRET)\n",
    "client = oauth.Client(consumer, access_token)"
   ]
  },
  {
   "cell_type": "code",
   "execution_count": 3,
   "metadata": {
    "collapsed": true
   },
   "outputs": [],
   "source": [
    "OAUTH_KEYS = {'consumer_key':CONSUMER_KEY, 'consumer_secret':CONSUMER_SECRET,\n",
    " 'access_token_key':ACCESS_KEY, 'access_token_secret':ACCESS_SECRET}\n",
    "auth = tw.OAuthHandler(OAUTH_KEYS['consumer_key'], OAUTH_KEYS['consumer_secret'])\n",
    "api = tw.API(auth, wait_on_rate_limit=True, wait_on_rate_limit_notify=True)"
   ]
  },
  {
   "cell_type": "code",
   "execution_count": 4,
   "metadata": {
    "collapsed": false
   },
   "outputs": [],
   "source": [
    "theTask = pd.read_csv('./tweets/task1.csv',index_col=False )"
   ]
  },
  {
   "cell_type": "code",
   "execution_count": null,
   "metadata": {
    "collapsed": false
   },
   "outputs": [],
   "source": [
    "negativeList = []\n",
    "for x,y in theTask.iterrows():\n",
    "    \n",
    "    somelist =[]\n",
    "    for status in tw.Cursor(api.user_timeline,id=str(y['screen_name'])).items():\n",
    "        somelist.append(status)\n",
    "\n",
    "    sn = []\n",
    "    text = []\n",
    "    timestamp =[]\n",
    "    for tweet in somelist:\n",
    "        #print tweet.user.screen_name, tweet.created_at, tweet.text\n",
    "        timestamp.append(datetime.strptime(str(tweet.created_at), \"%Y-%m-%d %H:%M:%S\"))\n",
    "        sn.append(tweet.user.screen_name.encode('utf-8'))\n",
    "        text.append(tweet.text.encode('utf-8'))\n",
    "\n",
    "    df = pd.DataFrame()\n",
    "    df['timestamp'] = timestamp\n",
    "    df['sn'] = sn\n",
    "    df['text'] = text\n",
    "    df = df[df['timestamp']>'2016-01-01 08:00:00']\n",
    "    df = df[df['timestamp']<'2017-02-01 08:00:00']\n",
    "    \n",
    "    df.to_csv(path_or_buf='./tweets/'+str(y['name'])+'.csv',sep=';',index=False,header=['timestamp','sn','text'])\n",
    "    negativeList.append(y['name'])"
   ]
  },
  {
   "cell_type": "code",
   "execution_count": null,
   "metadata": {
    "collapsed": true
   },
   "outputs": [],
   "source": []
  }
 ],
 "metadata": {
  "kernelspec": {
   "display_name": "Python 2",
   "language": "python",
   "name": "python2"
  },
  "language_info": {
   "codemirror_mode": {
    "name": "ipython",
    "version": 2
   },
   "file_extension": ".py",
   "mimetype": "text/x-python",
   "name": "python",
   "nbconvert_exporter": "python",
   "pygments_lexer": "ipython2",
   "version": "2.7.11"
  }
 },
 "nbformat": 4,
 "nbformat_minor": 0
}
