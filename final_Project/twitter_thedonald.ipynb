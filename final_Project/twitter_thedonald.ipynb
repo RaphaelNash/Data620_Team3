{
 "cells": [
  {
   "cell_type": "markdown",
   "metadata": {},
   "source": [
    "# Twitter\n",
    "\n",
    "## Kelly Shaffer, Raphael Nash, Xiaomeng (Vivian) Kong, Michael Muller, Blandon Casenave "
   ]
  },
  {
   "cell_type": "code",
   "execution_count": 125,
   "metadata": {},
   "outputs": [],
   "source": [
    "import networkx as nx\n",
    "import pandas as pd\n",
    "import urllib\n",
    "import numpy as np\n",
    "import matplotlib.pyplot as plt \n",
    "import sys\n",
    "import os\n",
    "from networkx.algorithms import bipartite as bi\n",
    "#twitter OAUTH \n",
    "import time as tm\n",
    "import json\n",
    "import argparse as ag\n",
    "import tweepy as tw\n",
    "from tweepy.streaming import StreamListener as sl\n",
    "from tweepy import OAuthHandler as oa\n",
    "from tweepy import Stream as st\n",
    "import oauth2 as oauth\n",
    "import re\n",
    "import dateutil.parser as dp\n",
    "from pytz import timezone as tz\n",
    "import pytz "
   ]
  },
  {
   "cell_type": "code",
   "execution_count": 126,
   "metadata": {},
   "outputs": [],
   "source": [
    "OAUTH_KEYS = {'consumer_key':CONSUMER_KEY, 'consumer_secret':CONSUMER_SECRET,\n",
    " 'access_token_key':ACCESS_KEY, 'access_token_secret':ACCESS_SECRET}\n",
    "auth = tw.OAuthHandler(OAUTH_KEYS['consumer_key'], OAUTH_KEYS['consumer_secret'])\n",
    "api = tw.API(auth, wait_on_rate_limit=True, wait_on_rate_limit_notify=True)"
   ]
  },
  {
   "cell_type": "code",
   "execution_count": 127,
   "metadata": {},
   "outputs": [],
   "source": [
    "search = tw.Cursor(api.search, q='#donaldtrump').items(30)"
   ]
  },
  {
   "cell_type": "code",
   "execution_count": 128,
   "metadata": {},
   "outputs": [
    {
     "name": "stdout",
     "output_type": "stream",
     "text": [
      "candypie22 2017-07-16 22:11:33 RT @FreeFlowerThink: #notmypresident #donaldtrump #impeachtrump #resist https://t.co/RwBST7qnl4\n",
      "tarmavis 2017-07-16 22:10:48 RT @MeilleurGeek: Sa popularité en berne, #DonaldTrump replonge dans l’affaire russe https://t.co/10Li7TbPhS https://t.co/frVBXF3AuH\n",
      "SumiSumishah9 2017-07-16 22:10:25 The #Wahhabi Mind-Set https://t.co/UOA5gMgb1d #Wahhabism #Salafism #SaudiArabia #ISIS #Taliban #BokoHaram #AlShabab #DonaldTrump\n",
      "carpel_1287 2017-07-16 22:10:25 RT @FreeFlowerThink: #notmypresident #donaldtrump #impeachtrump #resist https://t.co/RwBST7qnl4\n",
      "darthur111 2017-07-16 22:10:05 RT @BlueSea1964: 🚨One Small North Dakota Town Taught #MarkZuckerberg  Exactly Why #DonaldTrump  Is President -\n",
      "\n",
      "#MAGA #TrumpNation \n",
      "\n",
      " https…\n",
      "spooney35 2017-07-16 22:09:23 #DonaldTrump #ImpeachTrump #RussianCollusion #Resist #25thAmendmentNow #MAGA #AltRight @amjoyshow  @cspanwj… https://t.co/49MqidJ4DG\n",
      "skhall 2017-07-16 22:09:01 For those who are frightened by #DonaldTrump. #amreading #amwriting https://t.co/8CkNLWhAdo\n",
      "RickBasini 2017-07-16 22:08:53 RT @FreeFlowerThink: #notmypresident #donaldtrump #impeachtrump #resist https://t.co/RwBST7qnl4\n",
      "jbrown436 2017-07-16 22:08:38 RT @NewsCorpse: This is so friggin' stupid - even for #DonaldTrump\n",
      "\n",
      "https://t.co/NwjjyGXrY7\n",
      "DagfinnNordbo 2017-07-16 22:08:13 RT @RandyKaus: NO DAD! You can't grab #DoctorWho by the pussy!\n",
      "\n",
      "#DonaldTrump #ImpeachTrump #RussianCollusion\n",
      "#Resist #25thAmendmentNow #MAG…\n",
      "gussy173 2017-07-16 22:07:50 RT @JamesReader_RP: #DonaldTrump’s Sunday Tweet About His Approval Rating is Complete, Total, Delusional Horseshit &gt;&gt;https://t.co/EPYVjn34Z…\n",
      "lauriedtmann 2017-07-16 22:07:36 RT @RandyKaus: NO DAD! You can't grab #DoctorWho by the pussy!\n",
      "\n",
      "#DonaldTrump #ImpeachTrump #RussianCollusion\n",
      "#Resist #25thAmendmentNow #MAG…\n",
      "RF_P0TUS 2017-07-16 22:07:14 RT @RandyKaus: NO DAD! You can't grab #DoctorWho by the pussy!\n",
      "\n",
      "#DonaldTrump #ImpeachTrump #RussianCollusion\n",
      "#Resist #25thAmendmentNow #MAG…\n",
      "NewsCorpse 2017-07-16 22:06:11 This is so friggin' stupid - even for #DonaldTrump\n",
      "\n",
      "https://t.co/NwjjyGXrY7\n",
      "FreeFlowerThink 2017-07-16 22:06:09 RT @FreeFlowerThink: #notmypresident #donaldtrump #impeachtrump #resist #worstpresident #ticktock https://t.co/yn8Dd7HP7X\n",
      "ellielove888 2017-07-16 22:06:03 RT @NewCenturyTimes: Trump Embarrasses Ivanka With His New Campaign; Discredits Her Unpatriotic Merchandise #DonaldTrump #ivankatrump https…\n",
      "FreeFlowerThink 2017-07-16 22:06:03 RT @FreeFlowerThink: #notmypresident #donaldtrump #impeachtrump #resist https://t.co/p0NxKkxfoB\n",
      "FreeFlowerThink 2017-07-16 22:05:55 RT @FreeFlowerThink: #notmypresident #donaldtrump #impeachtrump #resist https://t.co/eJVFveSWD8\n",
      "FreeFlowerThink 2017-07-16 22:05:50 RT @FreeFlowerThink: #notmypresident #donaldtrump #impeachtrump #resist https://t.co/RwBST7qnl4\n",
      "FreeFlowerThink 2017-07-16 22:05:44 RT @FreeFlowerThink: #notmypresident #donaldtrump #impeachtrump #resist #dumptrump https://t.co/wuAkLCAPtB\n",
      "98cp7BhzMRQU5H8 2017-07-16 22:05:34 RT @GiANT49erTJC: #PresidentialDebate #HillaryClinton #DonaldTrump #SuchANastyWoman https://t.co/bqU5wlvfmq\n",
      "FreeFlowerThink 2017-07-16 22:05:30 RT @FreeFlowerThink: #notmypresident #donaldtrump #impeachtrump #resist https://t.co/8Pwd98mXBA\n",
      "FreeFlowerThink 2017-07-16 22:05:16 RT @FreeFlowerThink: #notmypresident #donaldtrump #impeachtrump #jointheresistance https://t.co/Rv2NDFLGBl\n",
      "FreeFlowerThink 2017-07-16 22:05:10 RT @FreeFlowerThink: #notmypresident #donaldtrump #impeachtrump #resist https://t.co/JHPqRGeh5V\n",
      "FreeFlowerThink 2017-07-16 22:04:58 RT @FreeFlowerThink: #notmypresident #donaldtrump #impeachtrump #resist https://t.co/GDXh7mBpZs\n",
      "FreeFlowerThink 2017-07-16 22:04:03 RT @FreeFlowerThink: #notmypresident #donaldtrump #impeachtrump #resist https://t.co/2nlt2wH2P0\n",
      "WitnessEye 2017-07-16 22:03:53 RT @nancy_us85: One Small North #dakota Town Taught Mark Zuckerberg Exactly Why #DonaldTrump Is #President\n",
      "https://t.co/gk0Y7pSr7R\n",
      "#SundayF…\n",
      "FreeFlowerThink 2017-07-16 22:03:52 RT @FreeFlowerThink: #notmypresident #donaldtrump #impeachtrump #resist https://t.co/wagqjQy2ad\n",
      "mrblackcat1069 2017-07-16 22:03:44 https://t.co/MsN9tm0OW3\n",
      "Whats Done In The Dark Will Be Brought To Light. \"It's All Coming Out About #DonaldTrump And Russia\"\n",
      "MLCzone 2017-07-16 22:03:21 RT @JamesReader_RP: #DonaldTrump’s Sunday Tweet About His Approval Rating is Complete, Total, Delusional Horseshit &gt;&gt;https://t.co/EPYVjn34Z…\n"
     ]
    }
   ],
   "source": [
    "sn = []\n",
    "text = []\n",
    "timestamp =[]\n",
    "for tweet in search:\n",
    "    print tweet.user.screen_name, tweet.created_at, tweet.text\n",
    "    timestamp.append(tweet.created_at)\n",
    "    sn.append(tweet.user.screen_name)\n",
    "    text.append(tweet.text)"
   ]
  },
  {
   "cell_type": "code",
   "execution_count": 129,
   "metadata": {
    "collapsed": true
   },
   "outputs": [],
   "source": [
    "\n",
    "# Convert lists to dataframe\n",
    "df = pd.DataFrame()\n",
    "df['timestamp'] = timestamp\n",
    "df['sn'] = sn\n",
    "df['text'] = text"
   ]
  },
  {
   "cell_type": "code",
   "execution_count": 130,
   "metadata": {
    "collapsed": true
   },
   "outputs": [],
   "source": [
    "# Prepare ford date filtering. Adding an EST time column since chat hosted by people in that time zone.\n",
    "df['timestamp'] = pd.to_datetime(df['timestamp'])\n",
    "df['EST'] = df['timestamp'] - pd.Timedelta(hours=5) #Convert to EST"
   ]
  },
  {
   "cell_type": "code",
   "execution_count": 131,
   "metadata": {
    "collapsed": true
   },
   "outputs": [],
   "source": [
    "df['EST'] = pd.to_datetime(df['EST'])"
   ]
  },
  {
   "cell_type": "code",
   "execution_count": 132,
   "metadata": {},
   "outputs": [],
   "source": [
    "#Subset for the dates required. Can select a specific date or time to examine.\n",
    "#import time\n",
    "#df = df[(pd.to_datetime(\"2017-7-14 20:00:00\", format='%Y-%m-%d %H:%M:%S') < df['EST']) & (df['EST'] < pd.to_datetime(\"2017-7-14 21:00:00\", format='%Y-%m-%d %H:%M:%S'))]"
   ]
  },
  {
   "cell_type": "code",
   "execution_count": 133,
   "metadata": {
    "collapsed": true
   },
   "outputs": [],
   "source": [
    "# Write out Tweets in case they are needed later.\n",
    "df.to_csv('620trumptweets.csv',index = False,encoding='utf-8')"
   ]
  },
  {
   "cell_type": "code",
   "execution_count": 134,
   "metadata": {
    "collapsed": true
   },
   "outputs": [],
   "source": [
    "# Create a list of the unique usernames in order to see which users we need to retrieve friends for.\n",
    "allNames = list(df['sn'].unique())"
   ]
  },
  {
   "cell_type": "code",
   "execution_count": 137,
   "metadata": {
    "collapsed": true
   },
   "outputs": [],
   "source": [
    "# Initialize dataframe of users that will hold the edge relationships\n",
    "dfUsers = pd.DataFrame()\n",
    "dfUsers['userFromName'] =[]\n",
    "dfUsers['userFromId'] =[]\n",
    "dfUsers['userToId'] = []\n",
    "count = 0 "
   ]
  },
  {
   "cell_type": "code",
   "execution_count": null,
   "metadata": {},
   "outputs": [
    {
     "name": "stdout",
     "output_type": "stream",
     "text": [
      "Twitter call 120.0% complete.Rate limit reached. Sleeping for: 831\n"
     ]
    }
   ],
   "source": [
    "nameCount = len(allNames)\n",
    "# The choice to retrieve friends (who the user is following) rather than followers is intentional.\n",
    "# Either would work. However, many Twitter users follow fewer users than are following them, especially the most popular accounts. \n",
    "# This reduces the number of very large calls to Twitter API, which seemed to cause problems.\n",
    "for name in allNames:\n",
    "    # Build list of friends    \n",
    "    currentFriends = []\n",
    "    for page in tw.Cursor(api.friends_ids, screen_name=name).pages():\n",
    "        currentFriends.extend(page)\n",
    "    currentId = api.get_user(screen_name=name).id\n",
    "    currentId = [currentId] * len(currentFriends)\n",
    "    currentName = [name] * len(currentFriends)   \n",
    "    dfTemp = pd.DataFrame()\n",
    "    dfTemp['userFromName'] = currentName\n",
    "    dfTemp['userFromId'] = currentId\n",
    "    dfTemp['userToId'] = currentFriends\n",
    "    dfUsers = pd.concat([dfUsers,dfTemp])\n",
    "    time.sleep(5) # avoids hitting Twitter rate limit\n",
    "    # Progress bar to track approximate progress\n",
    "    count +=1\n",
    "    per = round(count*100.0/nameCount,1)\n",
    "    sys.stdout.write(\"\\rTwitter call %s%% complete.\" % per)\n",
    "    sys.stdout.flush() "
   ]
  },
  {
   "cell_type": "code",
   "execution_count": 140,
   "metadata": {
    "collapsed": true
   },
   "outputs": [],
   "source": [
    "# Again, to limit the number of calls to Twitter API, just do lookups on followers that connect to those in our user group.\n",
    "# We are not interested in \"friends\" that are not part of this community.\n",
    "fromId = dfUsers['userFromId'].unique()\n",
    "dfChat = dfUsers[dfUsers['userToId'].apply(lambda x: x in fromId)]"
   ]
  },
  {
   "cell_type": "code",
   "execution_count": 141,
   "metadata": {},
   "outputs": [],
   "source": [
    "# No more Twitter API lookups are necessary. Create a lookup table that we will use to get the verify the userToName\n",
    "dfLookup = dfChat[['userFromName','userFromId']]\n",
    "dfLookup = dfLookup.drop_duplicates()\n",
    "dfLookup.columns = ['userToName','userToId']\n",
    "#dfCommunity = pd.DataFrame()\n",
    "#dfCommunity = pd.merge(dfLookup, on='userToId')"
   ]
  },
  {
   "cell_type": "code",
   "execution_count": 142,
   "metadata": {},
   "outputs": [
    {
     "data": {
      "text/html": [
       "<div>\n",
       "<style>\n",
       "    .dataframe thead tr:only-child th {\n",
       "        text-align: right;\n",
       "    }\n",
       "\n",
       "    .dataframe thead th {\n",
       "        text-align: left;\n",
       "    }\n",
       "\n",
       "    .dataframe tbody tr th {\n",
       "        vertical-align: top;\n",
       "    }\n",
       "</style>\n",
       "<table border=\"1\" class=\"dataframe\">\n",
       "  <thead>\n",
       "    <tr style=\"text-align: right;\">\n",
       "      <th></th>\n",
       "      <th>userToName</th>\n",
       "      <th>userToId</th>\n",
       "    </tr>\n",
       "  </thead>\n",
       "  <tbody>\n",
       "    <tr>\n",
       "      <th>2182</th>\n",
       "      <td>candypie22</td>\n",
       "      <td>111672312.0</td>\n",
       "    </tr>\n",
       "    <tr>\n",
       "      <th>1523</th>\n",
       "      <td>RickBasini</td>\n",
       "      <td>545305702.0</td>\n",
       "    </tr>\n",
       "    <tr>\n",
       "      <th>2592</th>\n",
       "      <td>lauriedtmann</td>\n",
       "      <td>13352392.0</td>\n",
       "    </tr>\n",
       "  </tbody>\n",
       "</table>\n",
       "</div>"
      ],
      "text/plain": [
       "        userToName     userToId\n",
       "2182    candypie22  111672312.0\n",
       "1523    RickBasini  545305702.0\n",
       "2592  lauriedtmann   13352392.0"
      ]
     },
     "execution_count": 142,
     "metadata": {},
     "output_type": "execute_result"
    }
   ],
   "source": [
    "dfLookup[:10]"
   ]
  },
  {
   "cell_type": "code",
   "execution_count": 143,
   "metadata": {
    "collapsed": true
   },
   "outputs": [],
   "source": [
    "dfLookup.to_csv('dfLookup.csv',index = False,encoding='utf-8')"
   ]
  },
  {
   "cell_type": "markdown",
   "metadata": {},
   "source": [
    "## Code Sources\n",
    "\n",
    "[https://stackoverflow.com/questions/6399978/getting-started-with-twitter-oauth2-python](Getting started with Twitter\\OAuth2\\Python)\n",
    "\n",
    "[http://www.techpoweredmath.com/constructing-social-graph-twitter-plotly/#.WWuUx9MrKYW](Constructing a Social Graph With Twitter and Plotly)"
   ]
  }
 ],
 "metadata": {
  "kernelspec": {
   "display_name": "Python 2",
   "language": "python",
   "name": "python2"
  },
  "language_info": {
   "codemirror_mode": {
    "name": "ipython",
    "version": 2
   },
   "file_extension": ".py",
   "mimetype": "text/x-python",
   "name": "python",
   "nbconvert_exporter": "python",
   "pygments_lexer": "ipython2",
   "version": "2.7.13"
  }
 },
 "nbformat": 4,
 "nbformat_minor": 2
}
