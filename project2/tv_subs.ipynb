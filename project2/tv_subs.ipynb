{
 "cells": [
  {
   "cell_type": "code",
   "execution_count": 1,
   "metadata": {},
   "outputs": [
    {
     "name": "stdout",
     "output_type": "stream",
     "text": [
      "                  IP                                      ID\n",
      "0      1.242.166.174  {21E4cC33-C623-F514-CcC1-44D7E28811E3}\n",
      "1        1.42.46.226        96659c2c0045cdc1c729d8a4269a268c\n",
      "2      100.0.115.126        ca1dc06138cda889adcfd017a55acc06\n",
      "3        100.0.122.4        06efc69f1e71087e96d01a6f22cf7f5a\n",
      "4      100.0.184.148  {744FAC75-30E3-5033-1cc0-5C996cCCCcc4}\n",
      "5      100.0.197.165        f1969f8e6cff0c77e848ef2a3cccecaf\n",
      "6       100.0.197.89  {ccEF74A6-4C3F-0Ac5-0Ec5-1cE5419125EE}\n",
      "7      100.0.198.144        34e60674e957ff1161757790d7052630\n",
      "8      100.0.205.254        86759e59c2eadc199a39f3c42ee20542\n",
      "9      100.0.215.107        2f7f26d1f1aacca737cc88ecfae37014\n",
      "10     100.0.221.240        68c0c55e9cf8c7750d98c71c6da43207\n",
      "11       100.0.48.54        cd135d6ad29f3438cc9e4dd2ed9754e1\n",
      "12        100.0.6.24        59c45a9cc14cd22960439d030c1d8f1d\n",
      "13      100.0.62.144        ade331c5c6d07ec47f9f39eeeae8e2cc\n",
      "14     100.1.102.192        30c727f149c92c8545817c8019f0ed9a\n",
      "15      100.1.107.47        ddd1cf9e93762805d2844c2c81d668ee\n",
      "16        100.1.11.5        515792dad652ac0472127e0cf752cd76\n",
      "17      100.1.114.11        c3ca810403ea99c445252f11c7cc7f89\n",
      "18     100.1.114.200        1179d1c0021c0138dc5dc3ddc7d3a0e1\n",
      "19     100.1.122.126        1c6ceca8e9401dc0019d41cf4567afa8\n",
      "20      100.1.129.88  {2DFFF1AA-CE3C-23E1-DAcD-7CEc4FED8E2c}\n",
      "21      100.1.141.80  {4F9Ac009-2496-4116-2FEc-8cE16AE49C6E}\n",
      "22      100.1.148.14  {8c3FcE33-689A-3F57-A2A7-8970F56595D1}\n",
      "23     100.1.140.148        56cdcc6e0f6402471d3a2e4fc60d1a60\n",
      "24     100.1.149.147        6d607cedce76d5d9dcd815c6ad85956c\n",
      "25      100.1.149.59        50a9342d3a24f49602a1a5c4283809f0\n",
      "26      100.1.15.202        d131f1f512a4f0cc9e0ef09c0d2a5062\n",
      "27      100.1.154.19        a222aff7a33a16f7cf38e14adc46c7fa\n",
      "28      100.1.158.78        d8546175dcf42150fcc6dd94852ccac4\n",
      "29      100.1.16.145        d6c9a8d0c577d9d635ef84aad481c432\n",
      "...              ...                                     ...\n",
      "82926  99.98.249.178        42c9066322797792a5fc398d5c0c83f1\n",
      "82927   99.98.252.14        830e148f9df8714c7cddcf8c3ee9fdd5\n",
      "82928   99.98.58.208        e6fc9090c4cc24f049cae74703cff102\n",
      "82929   99.98.79.147        d00e52ce15c5922660c8dc2cfc0d96f8\n",
      "82930    99.98.79.87        cf05dc66ecca8c2c23481a318fa7ce81\n",
      "82931   99.98.89.207  {1A532447-ECAA-E7EF-0317-c63Dc7165877}\n",
      "82932   99.98.90.245        ca5fce25664ce195c4798559e5874fc6\n",
      "82933   99.98.94.106        0c237cc4c9fcc00211117354c49df891\n",
      "82934    99.98.94.57        3aaf4e5e4ecc8cf3eed4620656ecf0c8\n",
      "82935   99.99.10.198  {D3558FF8-1FAC-0042-4236-08E6809AD51c}\n",
      "82936   99.99.105.99        f390ccee4c5ecc4796c408ceda51f9c8\n",
      "82937  99.99.109.109        cec1c51145e03275aa40f937037073cf\n",
      "82938  99.99.116.211        72d5a5136e9c212879566010a012c577\n",
      "82939  99.99.122.101        0763dad2e78e3c4ca76e3e2f6fefc52c\n",
      "82940  99.99.162.166        c095e7de36ff05fe010e3f754a44dfca\n",
      "82941   99.99.18.216  {4C82168D-D761-8CFA-4694-954336E61195}\n",
      "82942  99.99.189.182  {807143F3-A4DA-7651-C718-5Ec075A8E237}\n",
      "82943    99.99.219.2        c894007cada628751873566210f092d8\n",
      "82944  99.99.221.181        6633dc60968a56959dd9a7cdf7fcec89\n",
      "82945  99.99.240.175        720702de4070ad1d3e2197f6c24694c0\n",
      "82946  99.99.246.191        2f1385fc7fad2cc6c165976471896d36\n",
      "82947    99.99.250.4        f21d5f892a55467878d9f18c594d04c1\n",
      "82948  99.99.254.214  {c01A54C6-719c-F35C-D3c7-88C8E5578374}\n",
      "82949    99.99.29.54        c0355c1cc366cd1c840c93e3dda3a3cc\n",
      "82950   99.99.44.127        c14da7c13759eec2a52e275651f5725e\n",
      "82951    99.99.52.57        466c12747144341432772e25cae68c56\n",
      "82952   99.99.57.215        5c2ff55dd7c776c2fd042f838900a7fa\n",
      "82953   99.99.64.252        ace1a01ec15c4f41a44d45f33fc6d270\n",
      "82954    99.99.67.16  {EF2CFEC8-73CC-3857-c773-9A0C96451EFF}\n",
      "82955    99.99.71.19  {19C7041F-21E4-CADA-1646-c529F3940431}\n",
      "\n",
      "[82956 rows x 2 columns]\n"
     ]
    }
   ],
   "source": [
    "# jupyter notebook --NotebookApp.iopub_data_rate_limit=10000000000\n",
    "import networkx as nx\n",
    "import pandas as pd\n",
    "import urllib\n",
    "import numpy as np\n",
    "import matplotlib.pyplot as plt \n",
    "import sys\n",
    "import os\n",
    "\n",
    "\n",
    "\n",
    "url = \"https://raw.githubusercontent.com/Misterresearch/CUNY-Projects/master/tveanon_ip_guid.csv\"\n",
    "tvsubs = pd.read_csv(url, parse_dates=True, names=['IP','ID'], header=0)\n",
    "print tvsubs"
   ]
  },
  {
   "cell_type": "code",
   "execution_count": 2,
   "metadata": {},
   "outputs": [],
   "source": [
    "B = nx.Graph()\n",
    "B.add_nodes_from(tvsubs['IP'], bipartite='IP')\n",
    "B.add_nodes_from(tvsubs['ID'], bipartite='ID')\n",
    "B.add_edges_from(zip(tvsubs['IP'], tvsubs['ID']))\n",
    "\n",
    "B.nodes()\n",
    "B.edges()\n",
    "#nx.draw(B, node_size=0, node_color='w', edge_color='b', alpha=.2)\n",
    "#plt.show()\n"
   ]
  },
  {
   "cell_type": "code",
   "execution_count": null,
   "metadata": {},
   "outputs": [],
   "source": [
    "B2 = nx.Graph()                                                                                                                                     \n",
    "B2edges = filter(lambda x: B.degree()[x[0]] > 2 and B.degree()[x[1]] > 2, B.edges())\n",
    "B2.add_edges_from(B2edges)"
   ]
  },
  {
   "cell_type": "code",
   "execution_count": 19,
   "metadata": {},
   "outputs": [
    {
     "ename": "KeyError",
     "evalue": "'weight'",
     "output_type": "error",
     "traceback": [
      "\u001b[0;31m---------------------------------------------------------------------------\u001b[0m",
      "\u001b[0;31mKeyError\u001b[0m                                  Traceback (most recent call last)",
      "\u001b[0;32m<ipython-input-19-db263503bd29>\u001b[0m in \u001b[0;36m<module>\u001b[0;34m()\u001b[0m\n\u001b[1;32m     14\u001b[0m                         \u001b[0mB2\u001b[0m\u001b[0;34m.\u001b[0m\u001b[0madd_edge\u001b[0m\u001b[0;34m(\u001b[0m\u001b[0mi\u001b[0m\u001b[0;34m,\u001b[0m\u001b[0mto\u001b[0m\u001b[0;34m,\u001b[0m\u001b[0medata\u001b[0m\u001b[0;34m)\u001b[0m\u001b[0;34m\u001b[0m\u001b[0m\n\u001b[1;32m     15\u001b[0m     \u001b[0;32mreturn\u001b[0m \u001b[0mB2\u001b[0m\u001b[0;34m\u001b[0m\u001b[0m\n\u001b[0;32m---> 16\u001b[0;31m \u001b[0mB2\u001b[0m \u001b[0;34m=\u001b[0m \u001b[0mtrim_edges\u001b[0m\u001b[0;34m(\u001b[0m\u001b[0mB\u001b[0m\u001b[0;34m,\u001b[0m \u001b[0;36m2\u001b[0m\u001b[0;34m)\u001b[0m\u001b[0;34m\u001b[0m\u001b[0m\n\u001b[0m\u001b[1;32m     17\u001b[0m \u001b[0mB2\u001b[0m\u001b[0;34m.\u001b[0m\u001b[0mnodes\u001b[0m\u001b[0;34m(\u001b[0m\u001b[0;34m)\u001b[0m\u001b[0;34m\u001b[0m\u001b[0m\n\u001b[1;32m     18\u001b[0m \u001b[0;31m#nx.draw(B2, node_size=0, node_color='w', edge_color='b', alpha=.2)\u001b[0m\u001b[0;34m\u001b[0m\u001b[0;34m\u001b[0m\u001b[0m\n",
      "\u001b[0;32m<ipython-input-19-db263503bd29>\u001b[0m in \u001b[0;36mtrim_edges\u001b[0;34m(B, weight)\u001b[0m\n\u001b[1;32m     11\u001b[0m \u001b[0;32mdef\u001b[0m \u001b[0mtrim_edges\u001b[0m\u001b[0;34m(\u001b[0m\u001b[0mB\u001b[0m\u001b[0;34m,\u001b[0m \u001b[0mweight\u001b[0m\u001b[0;34m=\u001b[0m\u001b[0;36m2\u001b[0m\u001b[0;34m)\u001b[0m\u001b[0;34m:\u001b[0m\u001b[0;34m\u001b[0m\u001b[0m\n\u001b[1;32m     12\u001b[0m     \u001b[0;32mfor\u001b[0m \u001b[0mi\u001b[0m\u001b[0;34m,\u001b[0m \u001b[0mto\u001b[0m\u001b[0;34m,\u001b[0m \u001b[0medata\u001b[0m \u001b[0;32min\u001b[0m \u001b[0mB\u001b[0m\u001b[0;34m.\u001b[0m\u001b[0medges\u001b[0m\u001b[0;34m(\u001b[0m\u001b[0mdata\u001b[0m\u001b[0;34m=\u001b[0m\u001b[0mTrue\u001b[0m\u001b[0;34m)\u001b[0m\u001b[0;34m:\u001b[0m\u001b[0;34m\u001b[0m\u001b[0m\n\u001b[0;32m---> 13\u001b[0;31m                 \u001b[0;32mif\u001b[0m \u001b[0medata\u001b[0m\u001b[0;34m[\u001b[0m\u001b[0;34m'weight'\u001b[0m\u001b[0;34m]\u001b[0m \u001b[0;34m>\u001b[0m \u001b[0mweight\u001b[0m\u001b[0;34m:\u001b[0m\u001b[0;34m\u001b[0m\u001b[0m\n\u001b[0m\u001b[1;32m     14\u001b[0m                         \u001b[0mB2\u001b[0m\u001b[0;34m.\u001b[0m\u001b[0madd_edge\u001b[0m\u001b[0;34m(\u001b[0m\u001b[0mi\u001b[0m\u001b[0;34m,\u001b[0m\u001b[0mto\u001b[0m\u001b[0;34m,\u001b[0m\u001b[0medata\u001b[0m\u001b[0;34m)\u001b[0m\u001b[0;34m\u001b[0m\u001b[0m\n\u001b[1;32m     15\u001b[0m     \u001b[0;32mreturn\u001b[0m \u001b[0mB2\u001b[0m\u001b[0;34m\u001b[0m\u001b[0m\n",
      "\u001b[0;31mKeyError\u001b[0m: 'weight'"
     ]
    }
   ],
   "source": [
    "#IP_nodes = [n for n in B.nodes() if B.node[n]\n",
    "           #['bipartite'] == 'IP']\n",
    "\n",
    "#ID_nodes = [n for n in B.nodes() if B.node[n]\n",
    "           #['bipartite'] == 'ID']\n",
    "\n",
    "#projectedIP = nx.bipartite.projected_graph(B, nodes=IP_nodes)\n",
    "#projectedID = nx.bipartite.projected_graph(B, nodes=ID_nodes)\n",
    "\n",
    "B2=nx.Graph()\n",
    "def trim_edges(B, weight=2):\n",
    "    for i, to, edata in B.edges(data=True):\n",
    "                if edata['weight'] > weight:\n",
    "                        B2.add_edge(i,to,edata)\n",
    "    return B2\n",
    "B2 = trim_edges(B, 2)\n",
    "B2.nodes()\n",
    "#nx.draw(B2, node_size=0, node_color='w', edge_color='b', alpha=.2)\n",
    "#plt.show()"
   ]
  },
  {
   "cell_type": "code",
   "execution_count": 75,
   "metadata": {
    "collapsed": true
   },
   "outputs": [],
   "source": [
    "def island_method(B, iterations=5):\n",
    "    weights= [edata['weight'] for f,to,edata in B.edges(data=True)]\n",
    "    mn=int(min(weights))\n",
    "    mx=int(max(weights))\n",
    "    #compute the size of the step, so we get a reasonable step in iterations\n",
    "    step=int((mx-mn)/iterations)\n",
    "    return [[threshold, trim_edges(B, threshold)] for threshold in range(mn,mx,step)]"
   ]
  },
  {
   "cell_type": "code",
   "execution_count": 76,
   "metadata": {},
   "outputs": [
    {
     "ename": "AttributeError",
     "evalue": "'generator' object has no attribute 'edges'",
     "output_type": "error",
     "traceback": [
      "\u001b[0;31m---------------------------------------------------------------------------\u001b[0m",
      "\u001b[0;31mAttributeError\u001b[0m                            Traceback (most recent call last)",
      "\u001b[0;32m<ipython-input-76-f3cd314bc0a8>\u001b[0m in \u001b[0;36m<module>\u001b[0;34m()\u001b[0m\n\u001b[1;32m      1\u001b[0m \u001b[0mcc\u001b[0m\u001b[0;34m=\u001b[0m\u001b[0mnx\u001b[0m\u001b[0;34m.\u001b[0m\u001b[0mconnected_component_subgraphs\u001b[0m\u001b[0;34m(\u001b[0m\u001b[0mB\u001b[0m\u001b[0;34m)\u001b[0m\u001b[0;34m\u001b[0m\u001b[0m\n\u001b[0;32m----> 2\u001b[0;31m \u001b[0mislands\u001b[0m\u001b[0;34m=\u001b[0m\u001b[0misland_method\u001b[0m\u001b[0;34m(\u001b[0m\u001b[0mcc\u001b[0m\u001b[0;34m)\u001b[0m\u001b[0;34m\u001b[0m\u001b[0m\n\u001b[0m\u001b[1;32m      3\u001b[0m \u001b[0;32mfor\u001b[0m \u001b[0mi\u001b[0m \u001b[0;32min\u001b[0m \u001b[0mislands\u001b[0m\u001b[0;34m:\u001b[0m\u001b[0;34m\u001b[0m\u001b[0m\n\u001b[1;32m      4\u001b[0m     \u001b[0;31m# print the threshold level, size of the graph, and number of connected components\u001b[0m\u001b[0;34m\u001b[0m\u001b[0;34m\u001b[0m\u001b[0m\n\u001b[1;32m      5\u001b[0m     \u001b[0;32mprint\u001b[0m \u001b[0mi\u001b[0m\u001b[0;34m[\u001b[0m\u001b[0;36m0\u001b[0m\u001b[0;34m]\u001b[0m\u001b[0;34m,\u001b[0m \u001b[0mlen\u001b[0m\u001b[0;34m(\u001b[0m\u001b[0mi\u001b[0m\u001b[0;34m[\u001b[0m\u001b[0;36m1\u001b[0m\u001b[0;34m]\u001b[0m\u001b[0;34m)\u001b[0m\u001b[0;34m,\u001b[0m \u001b[0mlen\u001b[0m\u001b[0;34m(\u001b[0m\u001b[0mnet\u001b[0m\u001b[0;34m.\u001b[0m\u001b[0mconnected_component_subgraphs\u001b[0m\u001b[0;34m(\u001b[0m\u001b[0mi\u001b[0m\u001b[0;34m[\u001b[0m\u001b[0;36m1\u001b[0m\u001b[0;34m]\u001b[0m\u001b[0;34m)\u001b[0m\u001b[0;34m)\u001b[0m\u001b[0;34m\u001b[0m\u001b[0m\n",
      "\u001b[0;32m<ipython-input-75-53d38a619e4e>\u001b[0m in \u001b[0;36misland_method\u001b[0;34m(B, iterations)\u001b[0m\n\u001b[1;32m      1\u001b[0m \u001b[0;32mdef\u001b[0m \u001b[0misland_method\u001b[0m\u001b[0;34m(\u001b[0m\u001b[0mB\u001b[0m\u001b[0;34m,\u001b[0m \u001b[0miterations\u001b[0m\u001b[0;34m=\u001b[0m\u001b[0;36m5\u001b[0m\u001b[0;34m)\u001b[0m\u001b[0;34m:\u001b[0m\u001b[0;34m\u001b[0m\u001b[0m\n\u001b[0;32m----> 2\u001b[0;31m     \u001b[0mweights\u001b[0m\u001b[0;34m=\u001b[0m \u001b[0;34m[\u001b[0m\u001b[0medata\u001b[0m\u001b[0;34m[\u001b[0m\u001b[0;34m'weight'\u001b[0m\u001b[0;34m]\u001b[0m \u001b[0;32mfor\u001b[0m \u001b[0mf\u001b[0m\u001b[0;34m,\u001b[0m\u001b[0mto\u001b[0m\u001b[0;34m,\u001b[0m\u001b[0medata\u001b[0m \u001b[0;32min\u001b[0m \u001b[0mB\u001b[0m\u001b[0;34m.\u001b[0m\u001b[0medges\u001b[0m\u001b[0;34m(\u001b[0m\u001b[0mdata\u001b[0m\u001b[0;34m=\u001b[0m\u001b[0mTrue\u001b[0m\u001b[0;34m)\u001b[0m\u001b[0;34m]\u001b[0m\u001b[0;34m\u001b[0m\u001b[0m\n\u001b[0m\u001b[1;32m      3\u001b[0m     \u001b[0mmn\u001b[0m\u001b[0;34m=\u001b[0m\u001b[0mint\u001b[0m\u001b[0;34m(\u001b[0m\u001b[0mmin\u001b[0m\u001b[0;34m(\u001b[0m\u001b[0mweights\u001b[0m\u001b[0;34m)\u001b[0m\u001b[0;34m)\u001b[0m\u001b[0;34m\u001b[0m\u001b[0m\n\u001b[1;32m      4\u001b[0m     \u001b[0mmx\u001b[0m\u001b[0;34m=\u001b[0m\u001b[0mint\u001b[0m\u001b[0;34m(\u001b[0m\u001b[0mmax\u001b[0m\u001b[0;34m(\u001b[0m\u001b[0mweights\u001b[0m\u001b[0;34m)\u001b[0m\u001b[0;34m)\u001b[0m\u001b[0;34m\u001b[0m\u001b[0m\n\u001b[1;32m      5\u001b[0m     \u001b[0;31m#compute the size of the step, so we get a reasonable step in iterations\u001b[0m\u001b[0;34m\u001b[0m\u001b[0;34m\u001b[0m\u001b[0m\n",
      "\u001b[0;31mAttributeError\u001b[0m: 'generator' object has no attribute 'edges'"
     ]
    }
   ],
   "source": [
    "cc=nx.connected_component_subgraphs(B)\n",
    "islands=island_method(cc)\n",
    "for i in islands:\n",
    "    # print the threshold level, size of the graph, and number of connected components\n",
    "    print i[0], len(i[1]), len(net.connected_component_subgraphs(i[1]))"
   ]
  },
  {
   "cell_type": "code",
   "execution_count": null,
   "metadata": {
    "collapsed": true
   },
   "outputs": [],
   "source": [
    "pos = {node:[0, i] for i,node in enumerate(tvsubs['ID'])}\n",
    "pos.update({node:[1, i] for i,node in enumerate(tvsubs['IP'])})\n",
    "nx.draw(B, pos, with_labels=False)\n",
    "for p in pos:  # raise text positions\n",
    "    pos[p][1] += 0.25"
   ]
  },
  {
   "cell_type": "code",
   "execution_count": 21,
   "metadata": {},
   "outputs": [
    {
     "name": "stderr",
     "output_type": "stream",
     "text": [
      "/Users/digitalmarketer1977/anaconda/lib/python2.7/site-packages/networkx/drawing/nx_pylab.py:126: MatplotlibDeprecationWarning: pyplot.hold is deprecated.\n",
      "    Future behavior will be consistent with the long-time default:\n",
      "    plot commands add elements without first clearing the\n",
      "    Axes and/or Figure.\n",
      "  b = plt.ishold()\n",
      "/Users/digitalmarketer1977/anaconda/lib/python2.7/site-packages/networkx/drawing/nx_pylab.py:138: MatplotlibDeprecationWarning: pyplot.hold is deprecated.\n",
      "    Future behavior will be consistent with the long-time default:\n",
      "    plot commands add elements without first clearing the\n",
      "    Axes and/or Figure.\n",
      "  plt.hold(b)\n",
      "/Users/digitalmarketer1977/anaconda/lib/python2.7/site-packages/matplotlib/__init__.py:917: UserWarning: axes.hold is deprecated. Please remove it from your matplotlibrc and/or style files.\n",
      "  warnings.warn(self.msg_depr_set % key)\n",
      "/Users/digitalmarketer1977/anaconda/lib/python2.7/site-packages/matplotlib/rcsetup.py:152: UserWarning: axes.hold is deprecated, will be removed in 3.0\n",
      "  warnings.warn(\"axes.hold is deprecated, will be removed in 3.0\")\n"
     ]
    },
    {
     "data": {
      "image/png": "[encoded data removed]",
      "text/plain": [
       "<matplotlib.figure.Figure at 0x11d09d210>"
      ]
     },
     "metadata": {},
     "output_type": "display_data"
    }
   ],
   "source": [
    "nx.draw_networkx_labels(B, pos)\n",
    "\n",
    "plt.show()"
   ]
  }
 ],
 "metadata": {
  "kernelspec": {
   "display_name": "Python 2",
   "language": "python",
   "name": "python2"
  },
  "language_info": {
   "codemirror_mode": {
    "name": "ipython",
    "version": 2
   },
   "file_extension": ".py",
   "mimetype": "text/x-python",
   "name": "python",
   "nbconvert_exporter": "python",
   "pygments_lexer": "ipython2",
   "version": "2.7.13"
  }
 },
 "nbformat": 4,
 "nbformat_minor": 2
}
