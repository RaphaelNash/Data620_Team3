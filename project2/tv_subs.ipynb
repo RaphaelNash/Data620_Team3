{
 "cells": [
  {
   "cell_type": "code",
   "execution_count": 8,
   "metadata": {},
   "outputs": [
    {
     "name": "stdout",
     "output_type": "stream",
     "text": [
      "<multiprocessing.pool.ApplyResult object at 0x11380fe90>\n"
     ]
    }
   ],
   "source": [
    "import networkx as nx\n",
    "import pandas as pd\n",
    "import multiprocessing as mp\n",
    "import urllib  \n",
    "import matplotlib.pyplot as plt                                        \n",
    "LARGE_FILE = \"https://raw.githubusercontent.com/Misterresearch/CUNY-Projects/master/tveanon_ip_guid.csv\"\n",
    "CHUNKSIZE = 100000 # processing 100,000 rows at time\n",
    "\n",
    "def process_frame(df):\n",
    "        # process data frame\n",
    "        return len(df)\n",
    "\n",
    "if __name__ == '__main__':\n",
    "        reader = pd.read_csv(LARGE_FILE, chunksize=CHUNKSIZE)\n",
    "        pool = mp.Pool(4) # use 4 processes\n",
    "\n",
    "        funclist = []\n",
    "        for df in reader:\n",
    "                # process each data frame\n",
    "                f = pool.apply_async(process_frame,[df])\n",
    "                funclist.append(f)\n",
    "\n",
    "        result = 0\n",
    "        for f in funclist:\n",
    "                result += f.get(timeout=10) # timeout in 10 seconds\n",
    "\n",
    "#f = urllib.urlopen(LARGE FILE)\n",
    "#myfile = f.read()\n",
    "print f"
   ]
  }
 ],
 "metadata": {
  "kernelspec": {
   "display_name": "Python 2",
   "language": "python",
   "name": "python2"
  },
  "language_info": {
   "codemirror_mode": {
    "name": "ipython",
    "version": 2
   },
   "file_extension": ".py",
   "mimetype": "text/x-python",
   "name": "python",
   "nbconvert_exporter": "python",
   "pygments_lexer": "ipython2",
   "version": "2.7.13"
  }
 },
 "nbformat": 4,
 "nbformat_minor": 2
}
